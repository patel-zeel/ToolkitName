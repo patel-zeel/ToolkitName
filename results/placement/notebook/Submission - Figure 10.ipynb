{
 "cells": [
  {
   "cell_type": "markdown",
   "metadata": {},
   "source": [
    "## Standard Imports"
   ]
  },
  {
   "cell_type": "code",
   "execution_count": 1,
   "metadata": {},
   "outputs": [],
   "source": [
    "import warnings\n",
    "warnings.filterwarnings('ignore')"
   ]
  },
  {
   "cell_type": "code",
   "execution_count": 2,
   "metadata": {},
   "outputs": [],
   "source": [
    "import pandas as pd\n",
    "import numpy as np\n",
    "from IPython.display import clear_output\n",
    "import matplotlib.pyplot as plt\n",
    "import warnings\n",
    "warnings.filterwarnings('ignore')\n",
    "import sys\n",
    "sys.path.append(\"../../../\")\n",
    "from matplotlib.animation import FuncAnimation\n",
    "from ToolkitName.placement import NottDuns, Stationary"
   ]
  },
  {
   "cell_type": "markdown",
   "metadata": {},
   "source": [
    "## Data Loading"
   ]
  },
  {
   "cell_type": "code",
   "execution_count": 3,
   "metadata": {},
   "outputs": [],
   "source": [
    "train_data = pd.read_pickle('../dataset/PrecData_train.pickle')\n",
    "test_data = pd.read_pickle('../dataset/PrecData_test.pickle')\n",
    "G_train = pd.read_pickle('../dataset/PrecData_Gamma_train.csv')\n",
    "G_test = pd.read_pickle('../dataset/PrecData_Gamma_test.csv')\n",
    "\n",
    "train_data = train_data.reset_index(drop=True)\n",
    "G_train = pd.DataFrame(G_train.values, index=range(G_train.shape[0]), columns=range(G_train.shape[0]))\n",
    "G_test = pd.DataFrame(G_test.values, index=range(G_test.shape[0]), columns=range(G_test.shape[0]))"
   ]
  },
  {
   "cell_type": "markdown",
   "metadata": {},
   "source": [
    "## Visualize all sensor locations in the 2D space"
   ]
  },
  {
   "cell_type": "code",
   "execution_count": 4,
   "metadata": {},
   "outputs": [
    {
     "data": {
      "text/plain": [
       "<matplotlib.collections.PathCollection at 0x7fc2eb48bc18>"
      ]
     },
     "execution_count": 4,
     "metadata": {},
     "output_type": "execute_result"
    },
    {
     "data": {
      "image/png": "[encoded data removed]",
      "text/plain": [
       "<Figure size 432x288 with 1 Axes>"
      ]
     },
     "metadata": {
      "needs_background": "light"
     },
     "output_type": "display_data"
    }
   ],
   "source": [
    "plt.scatter(train_data['lat'], train_data['lon'])"
   ]
  },
  {
   "cell_type": "markdown",
   "metadata": {},
   "source": [
    "## Visualize train sensor locations in the 2D space"
   ]
  },
  {
   "cell_type": "code",
   "execution_count": 5,
   "metadata": {},
   "outputs": [
    {
     "name": "stdout",
     "output_type": "stream",
     "text": [
      "(30, 3) (30, 30)\n"
     ]
    }
   ],
   "source": [
    "Seed = 42\n",
    "train_sample = train_data.sample(30, random_state=Seed)\n",
    "G = G_train.loc[train_sample.index, train_sample.index]\n",
    "print(train_sample.shape, G.shape)\n",
    "\n",
    "X_train = train_sample[['lat','lon']].values\n",
    "y_train = train_sample[['data']].values.reshape(-1,1)"
   ]
  },
  {
   "cell_type": "code",
   "execution_count": 6,
   "metadata": {},
   "outputs": [
    {
     "data": {
      "text/plain": [
       "<matplotlib.collections.PathCollection at 0x7fc2ead6f710>"
      ]
     },
     "execution_count": 6,
     "metadata": {},
     "output_type": "execute_result"
    },
    {
     "data": {
      "image/png": "[encoded data removed]",
      "text/plain": [
       "<Figure size 432x288 with 1 Axes>"
      ]
     },
     "metadata": {
      "needs_background": "light"
     },
     "output_type": "display_data"
    }
   ],
   "source": [
    "plt.scatter(train_sample['lat'], train_sample['lon'])"
   ]
  },
  {
   "cell_type": "code",
   "execution_count": 7,
   "metadata": {},
   "outputs": [],
   "source": [
    "nonStat = NottDuns(N=10, eta=1)\n",
    "nonStat.fit(X_train, y_train, G.values)"
   ]
  },
  {
   "cell_type": "markdown",
   "metadata": {},
   "source": [
    "## Greedy algorithm for Near Optimal Sensor Placement!"
   ]
  },
  {
   "cell_type": "code",
   "execution_count": 8,
   "metadata": {},
   "outputs": [],
   "source": [
    "# Initials\n",
    "N = 30\n",
    "Pilot_ind = train_sample.index.tolist()\n",
    "A_ind_MI, _ = nonStat.place(train_data[['lat', 'lon']].values, Pilot_ind, N, 'MI')\n",
    "A_ind_Var, _ = nonStat.place(train_data[['lat', 'lon']].values, Pilot_ind, N, 'Entropy')\n",
    "MI = nonStat.MI\n",
    "Var = nonStat.Var"
   ]
  },
  {
   "cell_type": "markdown",
   "metadata": {},
   "source": [
    "## Visualizing sensor placements"
   ]
  },
  {
   "cell_type": "code",
   "execution_count": 9,
   "metadata": {},
   "outputs": [
    {
     "data": {
      "image/png": "[encoded data removed]",
      "text/plain": [
       "<Figure size 432x288 with 1 Axes>"
      ]
     },
     "metadata": {
      "needs_background": "light"
     },
     "output_type": "display_data"
    }
   ],
   "source": [
    "fig, ax = plt.subplots()\n",
    "iteration = 20\n",
    "ax.scatter(train_data.lat, train_data.lon, alpha=0.1, label='ALL')\n",
    "ax.scatter(train_data.loc[A_ind_MI[:iteration]]['lat'], train_data.loc[A_ind_MI[:iteration]]['lon'], label='MI')\n",
    "ax.scatter(train_data.loc[A_ind_Var[:iteration]]['lat'], train_data.loc[A_ind_Var[:iteration]]['lon'], label='Entropy')\n",
    "ax.legend(bbox_to_anchor=(1,0.5))\n",
    "plt.tight_layout()\n",
    "plt.show()"
   ]
  },
  {
   "cell_type": "markdown",
   "metadata": {},
   "source": [
    "## RMSE Plot"
   ]
  },
  {
   "cell_type": "code",
   "execution_count": 10,
   "metadata": {
    "scrolled": true
   },
   "outputs": [
    {
     "name": "stdout",
     "output_type": "stream",
     "text": [
      "5 29\n"
     ]
    }
   ],
   "source": [
    "Eta = 100\n",
    "NN = lambda x: len(x)//2\n",
    "Pilot_ind = []\n",
    "MI_rms = np.zeros((len(MI), len(test_data.index.unique()[::8])))\n",
    "Var_rms = np.zeros((len(Var), len(test_data.index.unique()[::8])))\n",
    "for iter_i, epoch_id in enumerate(test_data.index.unique()[::8]):\n",
    "    for sens_i in range(len(MI)):\n",
    "        clear_output(wait=True)\n",
    "        print(iter_i, sens_i)\n",
    "        test_tmp = test_data.loc[epoch_id].set_index('lat-lon').reset_index(drop=True)\n",
    "        # Predict and save RMSE\n",
    "        \n",
    "        # For Variance based locations ------------------\n",
    "\n",
    "        GP_train_X = test_tmp.loc[A_ind_Var[:sens_i]+Pilot_ind][['lat','lon']].values\n",
    "        GP_train_Y = test_tmp.loc[A_ind_Var[:sens_i]+Pilot_ind][['data']].values\n",
    "        GP_test_X = test_tmp.drop(A_ind_Var[:sens_i]+Pilot_ind, axis=0)[['lat','lon']].values\n",
    "        GP_test_Y = test_tmp.drop(A_ind_Var[:sens_i]+Pilot_ind, axis=0)[['data']].values\n",
    "        GP_Gamma = G_test.loc[A_ind_Var[:sens_i]+Pilot_ind, A_ind_Var[:sens_i]+Pilot_ind].values\n",
    "        \n",
    "        m = NottDuns(NN(GP_train_X), Eta, 'm32')\n",
    "        m.fit(GP_train_X, GP_train_Y, GP_Gamma)\n",
    "        GP_predict_Y = m.predict(GP_test_X)\n",
    "        #GP_predict_Y = 18 + cov_func(GP_test_X, GP_train_X).dot(np.linalg.pinv(cov_func(GP_train_X, GP_train_X))).dot(GP_train_Y - GP_train_Y.mean())\n",
    "        error = GP_test_Y - GP_predict_Y\n",
    "        rms = np.sqrt(np.mean(error**2))\n",
    "        Var_rms[sens_i, iter_i] = rms\n",
    "        \n",
    "        # For MI based locations ------------------\n",
    "        GP_train_X = test_tmp.loc[A_ind_MI[:sens_i]+Pilot_ind][['lat','lon']].values \n",
    "        GP_train_Y = test_tmp.loc[A_ind_MI[:sens_i]+Pilot_ind][['data']].values\n",
    "        GP_test_X = test_tmp.drop(A_ind_MI[:sens_i]+Pilot_ind, axis=0)[['lat','lon']].values\n",
    "        GP_test_Y = test_tmp.drop(A_ind_MI[:sens_i]+Pilot_ind, axis=0)[['data']].values\n",
    "        GP_Gamma = G_test.loc[A_ind_MI[:sens_i]+Pilot_ind, A_ind_MI[:sens_i]+Pilot_ind].values\n",
    "        m = NottDuns(NN(GP_train_X), Eta, 'm32')\n",
    "        m.fit(GP_train_X, GP_train_Y, GP_Gamma)\n",
    "        GP_predict_Y = m.predict(GP_test_X)\n",
    "        #GP_predict_Y = 18 + cov_func(GP_test_X, GP_train_X).dot(np.linalg.pinv(cov_func(GP_train_X, GP_train_X))).dot(GP_train_Y - GP_train_Y.mean())\n",
    "        error = GP_test_Y - GP_predict_Y\n",
    "        rms = np.sqrt(np.mean(error**2))\n",
    "        MI_rms[sens_i, iter_i] = rms"
   ]
  },
  {
   "cell_type": "code",
   "execution_count": 11,
   "metadata": {
    "scrolled": true
   },
   "outputs": [
    {
     "data": {
      "image/png": "[encoded data removed]",
      "text/plain": [
       "<Figure size 432x288 with 1 Axes>"
      ]
     },
     "metadata": {
      "needs_background": "light"
     },
     "output_type": "display_data"
    }
   ],
   "source": [
    "MM = 3\n",
    "\n",
    "MI_rms_mean = MI_rms[:,0]#.mean(axis=1)\n",
    "Var_rms_mean = Var_rms[:,0]#.mean(axis=1)\n",
    "\n",
    "fig, ax = plt.subplots()\n",
    "tmp = ax.plot(range(len(MI_rms_mean)), MI_rms_mean, 'go-', label='MI', markersize=MM)\n",
    "\n",
    "tmp = ax.plot(range(len(Var_rms_mean)), Var_rms_mean, 'ro-', label='Entropy', markersize=MM)\n",
    "ax.set_xlabel('Number of sensors\\n(a) NS kernel')\n",
    "ax.set_ylabel('RMSE\\n(Lower is better)')\n",
    "ax.legend()\n",
    "plt.tight_layout()\n",
    "plt.show()"
   ]
  },
  {
   "cell_type": "markdown",
   "metadata": {},
   "source": [
    "## Learning stationary kernel"
   ]
  },
  {
   "cell_type": "code",
   "execution_count": 12,
   "metadata": {},
   "outputs": [
    {
     "name": "stdout",
     "output_type": "stream",
     "text": [
      "(30, 3) (30, 30)\n",
      "Optimization restart 1/1, f = 64.75646983651002\n"
     ]
    }
   ],
   "source": [
    "Seed = 42\n",
    "train_sample = train_data.sample(30, random_state=Seed)\n",
    "G = G_train.loc[train_sample.index, train_sample.index]\n",
    "print(train_sample.shape, G.shape)\n",
    "\n",
    "X_train = train_sample[['lat','lon']].values\n",
    "y_train = train_sample[['data']].values.reshape(-1,1)\n",
    "\n",
    "\n",
    "Stat = Stationary(n_restarts=1, kernel_name='m32')\n",
    "Stat.fit(X_train, y_train)"
   ]
  },
  {
   "cell_type": "markdown",
   "metadata": {},
   "source": [
    "## Greedy placement"
   ]
  },
  {
   "cell_type": "code",
   "execution_count": 13,
   "metadata": {},
   "outputs": [],
   "source": [
    "N = 30\n",
    "Pilot_ind = train_sample.index.tolist()\n",
    "A_ind_MI, _ = Stat.place(train_data[['lat', 'lon']].values, Pilot_ind, N, 'MI')\n",
    "A_ind_Var, _ = Stat.place(train_data[['lat', 'lon']].values, Pilot_ind, N, 'Entropy')\n",
    "MI = Stat.MI\n",
    "Var = Stat.Var"
   ]
  },
  {
   "cell_type": "markdown",
   "metadata": {},
   "source": [
    "## RMSE plot"
   ]
  },
  {
   "cell_type": "code",
   "execution_count": 14,
   "metadata": {},
   "outputs": [
    {
     "name": "stdout",
     "output_type": "stream",
     "text": [
      "5 29\n",
      "Optimization restart 1/1, f = 153.39097691428478\n",
      "Optimization restart 1/1, f = 132.55033997853945\n"
     ]
    }
   ],
   "source": [
    "Gran = 8\n",
    "MI_rms1 = np.zeros((len(MI), len(test_data.index.unique()[::Gran])))\n",
    "Var_rms1 = np.zeros((len(Var), len(test_data.index.unique()[::Gran])))\n",
    "for iter_i, epoch_id in enumerate(test_data.index.unique()[::Gran]):\n",
    "    for sens_i in range(len(MI)):\n",
    "        clear_output(wait=True)\n",
    "        print(iter_i, sens_i)\n",
    "        test_tmp = test_data.loc[epoch_id].set_index('lat-lon').reset_index(drop=True)\n",
    "        # Predict and save RMSE\n",
    "        \n",
    "        # For Variance based locations ------------------\n",
    "\n",
    "        GP_train_X = test_tmp.loc[A_ind_Var[:sens_i]+Pilot_ind][['lat','lon']].values\n",
    "        GP_train_Y = test_tmp.loc[A_ind_Var[:sens_i]+Pilot_ind]['data'].values.reshape(-1,1)\n",
    "        GP_test_X = test_tmp.drop(A_ind_Var[:sens_i]+Pilot_ind, axis=0)[['lat','lon']].values\n",
    "        GP_test_Y = test_tmp.drop(A_ind_Var[:sens_i]+Pilot_ind, axis=0)['data'].values.reshape(-1,1)\n",
    "\n",
    "        Stat = Stationary(1, 'm32', True)\n",
    "        Stat.fit(GP_train_X, GP_train_Y)\n",
    "        GP_predict_Y = Stat.predict(GP_test_X)\n",
    "        error = GP_test_Y - GP_predict_Y\n",
    "        rms = np.sqrt(np.mean(error**2))\n",
    "        Var_rms1[sens_i, iter_i] = rms\n",
    "        \n",
    "        # For MI based locations ------------------\n",
    "        GP_train_X = test_tmp.loc[A_ind_MI[:sens_i]+Pilot_ind][['lat','lon']].values \n",
    "        GP_train_Y = test_tmp.loc[A_ind_MI[:sens_i]+Pilot_ind]['data'].values.reshape(-1,1)\n",
    "        GP_test_X = test_tmp.drop(A_ind_MI[:sens_i]+Pilot_ind, axis=0)[['lat','lon']].values\n",
    "        GP_test_Y = test_tmp.drop(A_ind_MI[:sens_i]+Pilot_ind, axis=0)['data'].values.reshape(-1,1)\n",
    "\n",
    "        Stat = Stationary(1, 'm32', True)\n",
    "        Stat.fit(GP_train_X, GP_train_Y)\n",
    "        GP_predict_Y = Stat.predict(GP_test_X)\n",
    "\n",
    "        error = GP_test_Y - GP_predict_Y\n",
    "        rms = np.sqrt(np.mean(error**2))\n",
    "        MI_rms1[sens_i, iter_i] = rms"
   ]
  },
  {
   "cell_type": "code",
   "execution_count": 15,
   "metadata": {},
   "outputs": [
    {
     "data": {
      "image/png": "[encoded data removed]",
      "text/plain": [
       "<Figure size 432x288 with 1 Axes>"
      ]
     },
     "metadata": {
      "needs_background": "light"
     },
     "output_type": "display_data"
    }
   ],
   "source": [
    "MM = 3\n",
    "MI_rms_mean = MI_rms1.mean(axis=1)\n",
    "Var_rms_mean = Var_rms1.mean(axis=1)\n",
    "\n",
    "fig, ax = plt.subplots()\n",
    "tmp = ax.plot(range(len(MI_rms_mean)), MI_rms_mean, 'go-', label='MI', markersize=MM)\n",
    "tmp = ax.plot(range(len(Var_rms_mean)), Var_rms_mean, 'ro-', label='Entropy', markersize=MM)\n",
    "ax.set_xlabel('Number of sensors')\n",
    "ax.set_ylabel('RMSE\\n(Lower is better)')\n",
    "ax.legend()\n",
    "plt.tight_layout()\n",
    "plt.show()"
   ]
  }
 ],
 "metadata": {
  "kernelspec": {
   "display_name": "Python 3",
   "language": "python",
   "name": "python3"
  },
  "language_info": {
   "codemirror_mode": {
    "name": "ipython",
    "version": 3
   },
   "file_extension": ".py",
   "mimetype": "text/x-python",
   "name": "python",
   "nbconvert_exporter": "python",
   "pygments_lexer": "ipython3",
   "version": "3.7.3"
  }
 },
 "nbformat": 4,
 "nbformat_minor": 2
}
