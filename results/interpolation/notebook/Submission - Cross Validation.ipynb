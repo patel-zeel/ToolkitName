{
 "cells": [
  {
   "cell_type": "code",
   "execution_count": 1,
   "metadata": {},
   "outputs": [],
   "source": [
    "import warnings\n",
    "warnings.filterwarnings('ignore')"
   ]
  },
  {
   "cell_type": "code",
   "execution_count": 2,
   "metadata": {},
   "outputs": [],
   "source": [
    "import pandas as pd\n",
    "import matplotlib.pyplot as plt\n",
    "import matplotlib\n",
    "matplotlib.rcParams['text.usetex'] = True\n",
    "import numpy as np\n",
    "import sys\n",
    "sys.path.append(\"../../../\")\n",
    "%load_ext autoreload\n",
    "%autoreload 2"
   ]
  },
  {
   "cell_type": "code",
   "execution_count": 3,
   "metadata": {},
   "outputs": [],
   "source": [
    "california_ozone = pd.read_csv(\"../dataset/cal_o3.csv\", index_col = None)"
   ]
  },
  {
   "cell_type": "code",
   "execution_count": 4,
   "metadata": {},
   "outputs": [],
   "source": [
    "cadf = california_ozone\n",
    "cadf = cadf[cadf['Time Local'] <= '18:00']\n",
    "cadf = cadf[cadf['Time Local'] >= '10:00']"
   ]
  },
  {
   "cell_type": "code",
   "execution_count": 5,
   "metadata": {},
   "outputs": [],
   "source": [
    "county_codes = cadf['County Code'].values\n",
    "site_code = cadf['Site Num'].values\n",
    "site_id = [str(county_codes[i]) + str(site_code[i]) for i in range(len(county_codes))]"
   ]
  },
  {
   "cell_type": "code",
   "execution_count": 6,
   "metadata": {},
   "outputs": [],
   "source": [
    "cadf['ID'] = site_id"
   ]
  },
  {
   "cell_type": "code",
   "execution_count": 7,
   "metadata": {},
   "outputs": [
    {
     "data": {
      "text/plain": [
       "Index(['State Code', 'County Code', 'Site Num', 'Parameter Code', 'POC',\n",
       "       'Latitude', 'Longitude', 'Datum', 'Parameter Name', 'Date Local',\n",
       "       'Time Local', 'Date GMT', 'Time GMT', 'Sample Measurement',\n",
       "       'Units of Measure', 'MDL', 'Uncertainty', 'Qualifier', 'Method Type',\n",
       "       'Method Code', 'Method Name', 'State Name', 'County Name',\n",
       "       'Date of Last Change', 'ID'],\n",
       "      dtype='object')"
      ]
     },
     "execution_count": 7,
     "metadata": {},
     "output_type": "execute_result"
    }
   ],
   "source": [
    "cadf.columns"
   ]
  },
  {
   "cell_type": "code",
   "execution_count": 8,
   "metadata": {},
   "outputs": [],
   "source": [
    "mask = cadf.groupby(['ID', 'Date Local'])['Sample Measurement'].count() >= 8"
   ]
  },
  {
   "cell_type": "code",
   "execution_count": 9,
   "metadata": {},
   "outputs": [],
   "source": [
    "cadf = cadf.groupby(['ID', 'Date Local']).mean()[mask]"
   ]
  },
  {
   "cell_type": "code",
   "execution_count": 10,
   "metadata": {},
   "outputs": [],
   "source": [
    "cadf.reset_index(inplace=True)"
   ]
  },
  {
   "cell_type": "code",
   "execution_count": 11,
   "metadata": {},
   "outputs": [],
   "source": [
    "cadf = cadf[['ID', 'Date Local', 'Latitude', 'Longitude', 'Sample Measurement']]"
   ]
  },
  {
   "cell_type": "code",
   "execution_count": 12,
   "metadata": {},
   "outputs": [],
   "source": [
    "m1 = cadf['Date Local'] >= '1990-05-01'\n",
    "m2 = cadf['Date Local'] <= '1990-09-30'\n",
    "mf = m1 & m2\n",
    "cadf = cadf[mf]"
   ]
  },
  {
   "cell_type": "code",
   "execution_count": 13,
   "metadata": {},
   "outputs": [],
   "source": [
    "m4 = cadf.groupby('ID').count()>=115"
   ]
  },
  {
   "cell_type": "code",
   "execution_count": 14,
   "metadata": {},
   "outputs": [
    {
     "data": {
      "text/html": [
       "<div>\n",
       "<style scoped>\n",
       "    .dataframe tbody tr th:only-of-type {\n",
       "        vertical-align: middle;\n",
       "    }\n",
       "\n",
       "    .dataframe tbody tr th {\n",
       "        vertical-align: top;\n",
       "    }\n",
       "\n",
       "    .dataframe thead th {\n",
       "        text-align: right;\n",
       "    }\n",
       "</style>\n",
       "<table border=\"1\" class=\"dataframe\">\n",
       "  <thead>\n",
       "    <tr style=\"text-align: right;\">\n",
       "      <th></th>\n",
       "      <th>Latitude</th>\n",
       "      <th>Longitude</th>\n",
       "      <th>Sample Measurement</th>\n",
       "    </tr>\n",
       "    <tr>\n",
       "      <th>ID</th>\n",
       "      <th></th>\n",
       "      <th></th>\n",
       "      <th></th>\n",
       "    </tr>\n",
       "  </thead>\n",
       "  <tbody>\n",
       "    <tr>\n",
       "      <th>1012</th>\n",
       "      <td>38.848232</td>\n",
       "      <td>-121.515236</td>\n",
       "      <td>0.045556</td>\n",
       "    </tr>\n",
       "    <tr>\n",
       "      <th>1013</th>\n",
       "      <td>39.138773</td>\n",
       "      <td>-121.618549</td>\n",
       "      <td>0.042222</td>\n",
       "    </tr>\n",
       "    <tr>\n",
       "      <th>1033</th>\n",
       "      <td>40.169321</td>\n",
       "      <td>-122.254441</td>\n",
       "      <td>0.057778</td>\n",
       "    </tr>\n",
       "    <tr>\n",
       "      <th>1072002</th>\n",
       "      <td>36.332179</td>\n",
       "      <td>-119.291228</td>\n",
       "      <td>0.066667</td>\n",
       "    </tr>\n",
       "    <tr>\n",
       "      <th>1075</th>\n",
       "      <td>36.493557</td>\n",
       "      <td>-118.829543</td>\n",
       "      <td>0.073389</td>\n",
       "    </tr>\n",
       "    <tr>\n",
       "      <th>...</th>\n",
       "      <td>...</td>\n",
       "      <td>...</td>\n",
       "      <td>...</td>\n",
       "    </tr>\n",
       "    <tr>\n",
       "      <th>974001</th>\n",
       "      <td>38.295747</td>\n",
       "      <td>-122.457758</td>\n",
       "      <td>0.036667</td>\n",
       "    </tr>\n",
       "    <tr>\n",
       "      <th>991003</th>\n",
       "      <td>37.522712</td>\n",
       "      <td>-120.867707</td>\n",
       "      <td>0.054444</td>\n",
       "    </tr>\n",
       "    <tr>\n",
       "      <th>991004</th>\n",
       "      <td>37.371047</td>\n",
       "      <td>-121.133265</td>\n",
       "      <td>0.051111</td>\n",
       "    </tr>\n",
       "    <tr>\n",
       "      <th>992003</th>\n",
       "      <td>37.538265</td>\n",
       "      <td>-121.272993</td>\n",
       "      <td>0.048889</td>\n",
       "    </tr>\n",
       "    <tr>\n",
       "      <th>995</th>\n",
       "      <td>37.642165</td>\n",
       "      <td>-120.994212</td>\n",
       "      <td>0.046667</td>\n",
       "    </tr>\n",
       "  </tbody>\n",
       "</table>\n",
       "<p>176 rows × 3 columns</p>\n",
       "</div>"
      ],
      "text/plain": [
       "          Latitude   Longitude  Sample Measurement\n",
       "ID                                                \n",
       "1012     38.848232 -121.515236            0.045556\n",
       "1013     39.138773 -121.618549            0.042222\n",
       "1033     40.169321 -122.254441            0.057778\n",
       "1072002  36.332179 -119.291228            0.066667\n",
       "1075     36.493557 -118.829543            0.073389\n",
       "...            ...         ...                 ...\n",
       "974001   38.295747 -122.457758            0.036667\n",
       "991003   37.522712 -120.867707            0.054444\n",
       "991004   37.371047 -121.133265            0.051111\n",
       "992003   37.538265 -121.272993            0.048889\n",
       "995      37.642165 -120.994212            0.046667\n",
       "\n",
       "[176 rows x 3 columns]"
      ]
     },
     "execution_count": 14,
     "metadata": {},
     "output_type": "execute_result"
    }
   ],
   "source": [
    "cadf.groupby('ID').median()"
   ]
  },
  {
   "cell_type": "code",
   "execution_count": 15,
   "metadata": {},
   "outputs": [],
   "source": [
    "cadf = cadf.groupby('ID').mean()[m4]"
   ]
  },
  {
   "cell_type": "code",
   "execution_count": 16,
   "metadata": {},
   "outputs": [],
   "source": [
    "cadf.dropna(inplace = True)"
   ]
  },
  {
   "cell_type": "code",
   "execution_count": 17,
   "metadata": {},
   "outputs": [],
   "source": [
    "ca_df = cadf.copy()"
   ]
  },
  {
   "cell_type": "code",
   "execution_count": 18,
   "metadata": {},
   "outputs": [
    {
     "data": {
      "text/plain": [
       "<matplotlib.collections.PathCollection at 0x7fde7edad630>"
      ]
     },
     "execution_count": 18,
     "metadata": {},
     "output_type": "execute_result"
    },
    {
     "data": {
      "image/png": "[encoded data removed]",
      "text/plain": [
       "<Figure size 432x288 with 1 Axes>"
      ]
     },
     "metadata": {
      "needs_background": "light"
     },
     "output_type": "display_data"
    }
   ],
   "source": [
    "plt.scatter(cadf['Longitude'], cadf['Latitude'])"
   ]
  },
  {
   "cell_type": "markdown",
   "metadata": {},
   "source": [
    "## Need to do leave-one-out cross validation in Southern California.\n",
    "## Southern California is Latitude <=34.81"
   ]
  },
  {
   "cell_type": "code",
   "execution_count": 19,
   "metadata": {},
   "outputs": [],
   "source": [
    "socaldf = cadf[cadf['Latitude'] <= 34.81]"
   ]
  },
  {
   "cell_type": "code",
   "execution_count": 20,
   "metadata": {},
   "outputs": [
    {
     "data": {
      "text/plain": [
       "(73, 3)"
      ]
     },
     "execution_count": 20,
     "metadata": {},
     "output_type": "execute_result"
    }
   ],
   "source": [
    "socaldf.shape"
   ]
  },
  {
   "cell_type": "code",
   "execution_count": 21,
   "metadata": {},
   "outputs": [],
   "source": [
    "X = socaldf[['Longitude', 'Latitude']].values\n",
    "y = socaldf[['Sample Measurement']]*1000\n",
    "y = y.values"
   ]
  },
  {
   "cell_type": "code",
   "execution_count": 22,
   "metadata": {},
   "outputs": [],
   "source": [
    "from ToolkitName.interpolate import Kriging, SpatialAverage\n",
    "from ToolkitName.custom import CustomInterpolator\n",
    "from sklearn.neighbors import KNeighborsRegressor"
   ]
  },
  {
   "cell_type": "code",
   "execution_count": 24,
   "metadata": {},
   "outputs": [],
   "source": [
    "kriging_predictions = []\n",
    "knn_predictions = []\n",
    "spatial_predictions = []\n",
    "for ix in range(X.shape[0]):\n",
    "    X_train = np.vstack((X[:ix], X[ix+1:]))\n",
    "    y_train = np.vstack((y[:ix], y[ix+1:]))\n",
    "    X_test = X[ix].reshape(1, 2)\n",
    "    y_test = y[ix].reshape(-1, 1)   \n",
    "    krig = Kriging(variogram_model='spherical', coordinate_type='Geographic')\n",
    "    krig.fit(X_train, y_train)\n",
    "    kriging_predictions.append(krig.predict(X_test).reshape(1, ))\n",
    "    knn = CustomInterpolator(KNeighborsRegressor, reg_kwargs={'n_neighbors':1})\n",
    "    knn.fit(X_train, y_train)\n",
    "    knn_predictions.append(knn.predict(X_test).reshape(1, ))\n",
    "    spatial = SpatialAverage(coordinate_type='Geographic', radius=16.1)\n",
    "    spatial.fit(X_train, y_train)\n",
    "    spatial_predictions.append(spatial.predict(X_test).reshape(1, ))"
   ]
  },
  {
   "cell_type": "code",
   "execution_count": 25,
   "metadata": {},
   "outputs": [],
   "source": [
    "from sklearn.metrics import r2_score\n",
    "from sklearn.linear_model import LinearRegression"
   ]
  },
  {
   "cell_type": "markdown",
   "metadata": {},
   "source": [
    "## Kriging"
   ]
  },
  {
   "cell_type": "code",
   "execution_count": 26,
   "metadata": {},
   "outputs": [
    {
     "data": {
      "text/plain": [
       "(array([[1.06613511]]), 0.7804042062328492)"
      ]
     },
     "execution_count": 26,
     "metadata": {},
     "output_type": "execute_result"
    }
   ],
   "source": [
    "linear = LinearRegression()\n",
    "linear.fit(kriging_predictions, y)\n",
    "linear.coef_, r2_score(y, linear.predict(kriging_predictions))"
   ]
  },
  {
   "cell_type": "markdown",
   "metadata": {},
   "source": [
    "## Spatial Averaging"
   ]
  },
  {
   "cell_type": "code",
   "execution_count": 27,
   "metadata": {},
   "outputs": [
    {
     "data": {
      "text/plain": [
       "(array([0.96384508]), 0.7832038030560715)"
      ]
     },
     "execution_count": 27,
     "metadata": {},
     "output_type": "execute_result"
    }
   ],
   "source": [
    "spatial_predictions = np.array(spatial_predictions)\n",
    "mask = ~np.isnan(spatial_predictions)\n",
    "y_spt = y[mask]\n",
    "spatial_predictions_1 = spatial_predictions[mask]\n",
    "linear = LinearRegression()\n",
    "linear.fit(spatial_predictions_1.reshape(-1, 1), y_spt)\n",
    "linear.coef_, r2_score(y_spt, linear.predict(spatial_predictions_1.reshape(-1, 1)))"
   ]
  },
  {
   "cell_type": "markdown",
   "metadata": {},
   "source": [
    "## Nearest Neighbor"
   ]
  },
  {
   "cell_type": "code",
   "execution_count": 28,
   "metadata": {},
   "outputs": [
    {
     "data": {
      "text/plain": [
       "(array([[0.80732258]]), 0.6783862462470492)"
      ]
     },
     "execution_count": 28,
     "metadata": {},
     "output_type": "execute_result"
    }
   ],
   "source": [
    "linear = LinearRegression()\n",
    "linear.fit(knn_predictions, y)\n",
    "linear.coef_, r2_score(y, linear.predict(knn_predictions))"
   ]
  }
 ],
 "metadata": {
  "kernelspec": {
   "display_name": "Python 3",
   "language": "python",
   "name": "python3"
  },
  "language_info": {
   "codemirror_mode": {
    "name": "ipython",
    "version": 3
   },
   "file_extension": ".py",
   "mimetype": "text/x-python",
   "name": "python",
   "nbconvert_exporter": "python",
   "pygments_lexer": "ipython3",
   "version": "3.7.3"
  }
 },
 "nbformat": 4,
 "nbformat_minor": 2
}
