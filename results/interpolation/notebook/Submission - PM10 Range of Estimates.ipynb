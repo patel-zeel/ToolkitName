{
 "cells": [
  {
   "cell_type": "code",
   "execution_count": 1,
   "metadata": {},
   "outputs": [],
   "source": [
    "import pandas as pd\n",
    "import matplotlib.pyplot as plt\n",
    "import numpy as np\n",
    "import sys\n",
    "import geopandas as gpd\n",
    "sys.path.append(\"../../../\")\n",
    "%load_ext autoreload\n",
    "%autoreload 2"
   ]
  },
  {
   "cell_type": "code",
   "execution_count": 2,
   "metadata": {},
   "outputs": [],
   "source": [
    "df = pd.read_csv(\"../dataset/pm.csv\")"
   ]
  },
  {
   "cell_type": "code",
   "execution_count": 3,
   "metadata": {},
   "outputs": [
    {
     "data": {
      "text/html": [
       "<div>\n",
       "<style scoped>\n",
       "    .dataframe tbody tr th:only-of-type {\n",
       "        vertical-align: middle;\n",
       "    }\n",
       "\n",
       "    .dataframe tbody tr th {\n",
       "        vertical-align: top;\n",
       "    }\n",
       "\n",
       "    .dataframe thead th {\n",
       "        text-align: right;\n",
       "    }\n",
       "</style>\n",
       "<table border=\"1\" class=\"dataframe\">\n",
       "  <thead>\n",
       "    <tr style=\"text-align: right;\">\n",
       "      <th></th>\n",
       "      <th>Date</th>\n",
       "      <th>Source</th>\n",
       "      <th>Site ID</th>\n",
       "      <th>POC</th>\n",
       "      <th>Daily Mean PM10 Concentration</th>\n",
       "      <th>UNITS</th>\n",
       "      <th>DAILY_AQI_VALUE</th>\n",
       "      <th>Site Name</th>\n",
       "      <th>DAILY_OBS_COUNT</th>\n",
       "      <th>PERCENT_COMPLETE</th>\n",
       "      <th>AQS_PARAMETER_CODE</th>\n",
       "      <th>AQS_PARAMETER_DESC</th>\n",
       "      <th>CBSA_CODE</th>\n",
       "      <th>CBSA_NAME</th>\n",
       "      <th>STATE_CODE</th>\n",
       "      <th>STATE</th>\n",
       "      <th>COUNTY_CODE</th>\n",
       "      <th>COUNTY</th>\n",
       "      <th>SITE_LATITUDE</th>\n",
       "      <th>SITE_LONGITUDE</th>\n",
       "    </tr>\n",
       "  </thead>\n",
       "  <tbody>\n",
       "    <tr>\n",
       "      <th>0</th>\n",
       "      <td>01/11/1990</td>\n",
       "      <td>AQS</td>\n",
       "      <td>120111003</td>\n",
       "      <td>1</td>\n",
       "      <td>45</td>\n",
       "      <td>ug/m3 SC</td>\n",
       "      <td>42</td>\n",
       "      <td>NaN</td>\n",
       "      <td>1</td>\n",
       "      <td>100.0</td>\n",
       "      <td>81102</td>\n",
       "      <td>PM10 Total 0-10um STP</td>\n",
       "      <td>33100.0</td>\n",
       "      <td>Miami-Fort Lauderdale-West Palm Beach, FL</td>\n",
       "      <td>12</td>\n",
       "      <td>Florida</td>\n",
       "      <td>11</td>\n",
       "      <td>Broward</td>\n",
       "      <td>26.129531</td>\n",
       "      <td>-80.168379</td>\n",
       "    </tr>\n",
       "    <tr>\n",
       "      <th>1</th>\n",
       "      <td>01/17/1990</td>\n",
       "      <td>AQS</td>\n",
       "      <td>120111003</td>\n",
       "      <td>1</td>\n",
       "      <td>21</td>\n",
       "      <td>ug/m3 SC</td>\n",
       "      <td>19</td>\n",
       "      <td>NaN</td>\n",
       "      <td>1</td>\n",
       "      <td>100.0</td>\n",
       "      <td>81102</td>\n",
       "      <td>PM10 Total 0-10um STP</td>\n",
       "      <td>33100.0</td>\n",
       "      <td>Miami-Fort Lauderdale-West Palm Beach, FL</td>\n",
       "      <td>12</td>\n",
       "      <td>Florida</td>\n",
       "      <td>11</td>\n",
       "      <td>Broward</td>\n",
       "      <td>26.129531</td>\n",
       "      <td>-80.168379</td>\n",
       "    </tr>\n",
       "    <tr>\n",
       "      <th>2</th>\n",
       "      <td>01/23/1990</td>\n",
       "      <td>AQS</td>\n",
       "      <td>120111003</td>\n",
       "      <td>1</td>\n",
       "      <td>26</td>\n",
       "      <td>ug/m3 SC</td>\n",
       "      <td>24</td>\n",
       "      <td>NaN</td>\n",
       "      <td>1</td>\n",
       "      <td>100.0</td>\n",
       "      <td>81102</td>\n",
       "      <td>PM10 Total 0-10um STP</td>\n",
       "      <td>33100.0</td>\n",
       "      <td>Miami-Fort Lauderdale-West Palm Beach, FL</td>\n",
       "      <td>12</td>\n",
       "      <td>Florida</td>\n",
       "      <td>11</td>\n",
       "      <td>Broward</td>\n",
       "      <td>26.129531</td>\n",
       "      <td>-80.168379</td>\n",
       "    </tr>\n",
       "    <tr>\n",
       "      <th>3</th>\n",
       "      <td>01/29/1990</td>\n",
       "      <td>AQS</td>\n",
       "      <td>120111003</td>\n",
       "      <td>1</td>\n",
       "      <td>26</td>\n",
       "      <td>ug/m3 SC</td>\n",
       "      <td>24</td>\n",
       "      <td>NaN</td>\n",
       "      <td>1</td>\n",
       "      <td>100.0</td>\n",
       "      <td>81102</td>\n",
       "      <td>PM10 Total 0-10um STP</td>\n",
       "      <td>33100.0</td>\n",
       "      <td>Miami-Fort Lauderdale-West Palm Beach, FL</td>\n",
       "      <td>12</td>\n",
       "      <td>Florida</td>\n",
       "      <td>11</td>\n",
       "      <td>Broward</td>\n",
       "      <td>26.129531</td>\n",
       "      <td>-80.168379</td>\n",
       "    </tr>\n",
       "    <tr>\n",
       "      <th>4</th>\n",
       "      <td>02/04/1990</td>\n",
       "      <td>AQS</td>\n",
       "      <td>120111003</td>\n",
       "      <td>1</td>\n",
       "      <td>19</td>\n",
       "      <td>ug/m3 SC</td>\n",
       "      <td>18</td>\n",
       "      <td>NaN</td>\n",
       "      <td>1</td>\n",
       "      <td>100.0</td>\n",
       "      <td>81102</td>\n",
       "      <td>PM10 Total 0-10um STP</td>\n",
       "      <td>33100.0</td>\n",
       "      <td>Miami-Fort Lauderdale-West Palm Beach, FL</td>\n",
       "      <td>12</td>\n",
       "      <td>Florida</td>\n",
       "      <td>11</td>\n",
       "      <td>Broward</td>\n",
       "      <td>26.129531</td>\n",
       "      <td>-80.168379</td>\n",
       "    </tr>\n",
       "  </tbody>\n",
       "</table>\n",
       "</div>"
      ],
      "text/plain": [
       "         Date Source    Site ID  POC  Daily Mean PM10 Concentration     UNITS  \\\n",
       "0  01/11/1990    AQS  120111003    1                             45  ug/m3 SC   \n",
       "1  01/17/1990    AQS  120111003    1                             21  ug/m3 SC   \n",
       "2  01/23/1990    AQS  120111003    1                             26  ug/m3 SC   \n",
       "3  01/29/1990    AQS  120111003    1                             26  ug/m3 SC   \n",
       "4  02/04/1990    AQS  120111003    1                             19  ug/m3 SC   \n",
       "\n",
       "   DAILY_AQI_VALUE Site Name  DAILY_OBS_COUNT  PERCENT_COMPLETE  \\\n",
       "0               42       NaN                1             100.0   \n",
       "1               19       NaN                1             100.0   \n",
       "2               24       NaN                1             100.0   \n",
       "3               24       NaN                1             100.0   \n",
       "4               18       NaN                1             100.0   \n",
       "\n",
       "   AQS_PARAMETER_CODE     AQS_PARAMETER_DESC  CBSA_CODE  \\\n",
       "0               81102  PM10 Total 0-10um STP    33100.0   \n",
       "1               81102  PM10 Total 0-10um STP    33100.0   \n",
       "2               81102  PM10 Total 0-10um STP    33100.0   \n",
       "3               81102  PM10 Total 0-10um STP    33100.0   \n",
       "4               81102  PM10 Total 0-10um STP    33100.0   \n",
       "\n",
       "                                   CBSA_NAME  STATE_CODE    STATE  \\\n",
       "0  Miami-Fort Lauderdale-West Palm Beach, FL          12  Florida   \n",
       "1  Miami-Fort Lauderdale-West Palm Beach, FL          12  Florida   \n",
       "2  Miami-Fort Lauderdale-West Palm Beach, FL          12  Florida   \n",
       "3  Miami-Fort Lauderdale-West Palm Beach, FL          12  Florida   \n",
       "4  Miami-Fort Lauderdale-West Palm Beach, FL          12  Florida   \n",
       "\n",
       "   COUNTY_CODE   COUNTY  SITE_LATITUDE  SITE_LONGITUDE  \n",
       "0           11  Broward      26.129531      -80.168379  \n",
       "1           11  Broward      26.129531      -80.168379  \n",
       "2           11  Broward      26.129531      -80.168379  \n",
       "3           11  Broward      26.129531      -80.168379  \n",
       "4           11  Broward      26.129531      -80.168379  "
      ]
     },
     "execution_count": 3,
     "metadata": {},
     "output_type": "execute_result"
    }
   ],
   "source": [
    "df.head()"
   ]
  },
  {
   "cell_type": "code",
   "execution_count": 4,
   "metadata": {},
   "outputs": [],
   "source": [
    "import warnings\n",
    "warnings.filterwarnings(\"ignore\")"
   ]
  },
  {
   "cell_type": "code",
   "execution_count": 5,
   "metadata": {},
   "outputs": [],
   "source": [
    "centroids = np.load(\"USA_Centroids.npy\")"
   ]
  },
  {
   "cell_type": "code",
   "execution_count": 6,
   "metadata": {},
   "outputs": [],
   "source": [
    "tdf = df.drop(columns=[ 'Source', \n",
    "       'UNITS', 'DAILY_AQI_VALUE', 'Site Name', 'DAILY_OBS_COUNT',\n",
    "        'AQS_PARAMETER_CODE', 'AQS_PARAMETER_DESC',\n",
    "        'CBSA_CODE','CBSA_NAME', 'POC'\n",
    "                ])"
   ]
  },
  {
   "cell_type": "code",
   "execution_count": 7,
   "metadata": {},
   "outputs": [
    {
     "data": {
      "text/html": [
       "<div>\n",
       "<style scoped>\n",
       "    .dataframe tbody tr th:only-of-type {\n",
       "        vertical-align: middle;\n",
       "    }\n",
       "\n",
       "    .dataframe tbody tr th {\n",
       "        vertical-align: top;\n",
       "    }\n",
       "\n",
       "    .dataframe thead th {\n",
       "        text-align: right;\n",
       "    }\n",
       "</style>\n",
       "<table border=\"1\" class=\"dataframe\">\n",
       "  <thead>\n",
       "    <tr style=\"text-align: right;\">\n",
       "      <th></th>\n",
       "      <th>Date</th>\n",
       "      <th>Site ID</th>\n",
       "      <th>Daily Mean PM10 Concentration</th>\n",
       "      <th>PERCENT_COMPLETE</th>\n",
       "      <th>STATE_CODE</th>\n",
       "      <th>STATE</th>\n",
       "      <th>COUNTY_CODE</th>\n",
       "      <th>COUNTY</th>\n",
       "      <th>SITE_LATITUDE</th>\n",
       "      <th>SITE_LONGITUDE</th>\n",
       "    </tr>\n",
       "  </thead>\n",
       "  <tbody>\n",
       "    <tr>\n",
       "      <th>0</th>\n",
       "      <td>01/11/1990</td>\n",
       "      <td>120111003</td>\n",
       "      <td>45</td>\n",
       "      <td>100.0</td>\n",
       "      <td>12</td>\n",
       "      <td>Florida</td>\n",
       "      <td>11</td>\n",
       "      <td>Broward</td>\n",
       "      <td>26.129531</td>\n",
       "      <td>-80.168379</td>\n",
       "    </tr>\n",
       "    <tr>\n",
       "      <th>1</th>\n",
       "      <td>01/17/1990</td>\n",
       "      <td>120111003</td>\n",
       "      <td>21</td>\n",
       "      <td>100.0</td>\n",
       "      <td>12</td>\n",
       "      <td>Florida</td>\n",
       "      <td>11</td>\n",
       "      <td>Broward</td>\n",
       "      <td>26.129531</td>\n",
       "      <td>-80.168379</td>\n",
       "    </tr>\n",
       "    <tr>\n",
       "      <th>2</th>\n",
       "      <td>01/23/1990</td>\n",
       "      <td>120111003</td>\n",
       "      <td>26</td>\n",
       "      <td>100.0</td>\n",
       "      <td>12</td>\n",
       "      <td>Florida</td>\n",
       "      <td>11</td>\n",
       "      <td>Broward</td>\n",
       "      <td>26.129531</td>\n",
       "      <td>-80.168379</td>\n",
       "    </tr>\n",
       "    <tr>\n",
       "      <th>3</th>\n",
       "      <td>01/29/1990</td>\n",
       "      <td>120111003</td>\n",
       "      <td>26</td>\n",
       "      <td>100.0</td>\n",
       "      <td>12</td>\n",
       "      <td>Florida</td>\n",
       "      <td>11</td>\n",
       "      <td>Broward</td>\n",
       "      <td>26.129531</td>\n",
       "      <td>-80.168379</td>\n",
       "    </tr>\n",
       "    <tr>\n",
       "      <th>4</th>\n",
       "      <td>02/04/1990</td>\n",
       "      <td>120111003</td>\n",
       "      <td>19</td>\n",
       "      <td>100.0</td>\n",
       "      <td>12</td>\n",
       "      <td>Florida</td>\n",
       "      <td>11</td>\n",
       "      <td>Broward</td>\n",
       "      <td>26.129531</td>\n",
       "      <td>-80.168379</td>\n",
       "    </tr>\n",
       "  </tbody>\n",
       "</table>\n",
       "</div>"
      ],
      "text/plain": [
       "         Date    Site ID  Daily Mean PM10 Concentration  PERCENT_COMPLETE  \\\n",
       "0  01/11/1990  120111003                             45             100.0   \n",
       "1  01/17/1990  120111003                             21             100.0   \n",
       "2  01/23/1990  120111003                             26             100.0   \n",
       "3  01/29/1990  120111003                             26             100.0   \n",
       "4  02/04/1990  120111003                             19             100.0   \n",
       "\n",
       "   STATE_CODE    STATE  COUNTY_CODE   COUNTY  SITE_LATITUDE  SITE_LONGITUDE  \n",
       "0          12  Florida           11  Broward      26.129531      -80.168379  \n",
       "1          12  Florida           11  Broward      26.129531      -80.168379  \n",
       "2          12  Florida           11  Broward      26.129531      -80.168379  \n",
       "3          12  Florida           11  Broward      26.129531      -80.168379  \n",
       "4          12  Florida           11  Broward      26.129531      -80.168379  "
      ]
     },
     "execution_count": 7,
     "metadata": {},
     "output_type": "execute_result"
    }
   ],
   "source": [
    "tdf.head()"
   ]
  },
  {
   "cell_type": "code",
   "execution_count": 8,
   "metadata": {},
   "outputs": [
    {
     "data": {
      "image/png": "[encoded data removed]",
      "text/plain": [
       "<Figure size 432x288 with 1 Axes>"
      ]
     },
     "metadata": {
      "needs_background": "light"
     },
     "output_type": "display_data"
    }
   ],
   "source": [
    "tdf = tdf[tdf['STATE']!='Hawaii']\n",
    "tdf = tdf[tdf['STATE']!='Alaska']\n",
    "\n",
    "plt.scatter(tdf['SITE_LONGITUDE'].unique(), tdf['SITE_LATITUDE'].unique(), s = 1)\n",
    "plt.show()"
   ]
  },
  {
   "cell_type": "code",
   "execution_count": 9,
   "metadata": {},
   "outputs": [
    {
     "data": {
      "image/png": "[encoded data removed]",
      "text/plain": [
       "<Figure size 432x288 with 1 Axes>"
      ]
     },
     "metadata": {
      "needs_background": "light"
     },
     "output_type": "display_data"
    }
   ],
   "source": [
    "t1 = pd.concat([tdf[tdf['SITE_LONGITUDE']<-104.01], tdf[tdf['SITE_LONGITUDE']>-99.42]])\n",
    "t1 = t1[t1['STATE']!='New Mexico']\n",
    "# t1 = t1[t1['STATE']!='Arizona']\n",
    "plt.scatter(t1['SITE_LONGITUDE'].unique(), t1['SITE_LATITUDE'].unique(), s = 1)\n",
    "plt.show()"
   ]
  },
  {
   "cell_type": "code",
   "execution_count": 10,
   "metadata": {},
   "outputs": [],
   "source": [
    "t2 = t1.copy()"
   ]
  },
  {
   "cell_type": "code",
   "execution_count": 11,
   "metadata": {},
   "outputs": [],
   "source": [
    "states = t1['STATE'].unique()\n",
    "nw = ['Washington', 'Oregon', 'Wyoming','Idaho', 'Montana', 'Colorado','Utah','Nevada']\n",
    "sc = ['California']\n",
    "mw = ['West Virginia', 'Illinois', 'Indiana', 'Iowa', 'Kansas', 'Michigan', 'Minnesota', 'Missouri', 'Nebraska', 'North Dakota', 'Ohio', 'South Dakota', 'Wisconsin']\n",
    "se = ['Oklahoma','Florida', 'Alabama', 'Georgia',  'Tennessee', 'South Carolina', 'North Carolina', 'Virginia', 'Louisiana', 'Arkansas', 'Texas', 'Kentucky']\n",
    "ne = ['Connecticut',\n",
    " 'Delaware',\n",
    " 'Maine',\n",
    " 'Maryland',\n",
    " 'Massachusetts',\n",
    " 'New Hampshire',\n",
    " 'New Jersey',\n",
    " 'New York',\n",
    " 'Pennsylvania',\n",
    " 'Rhode Island',\n",
    " 'Vermont','District Of Columbia'\n",
    "]\n"
   ]
  },
  {
   "cell_type": "code",
   "execution_count": 12,
   "metadata": {},
   "outputs": [],
   "source": [
    "nwdf = t1[np.isin(t1['STATE'], nw)]\n",
    "mwdf = t1[np.isin(t1['STATE'], mw)]\n",
    "sedf = t1[np.isin(t1['STATE'], se)]\n",
    "nedf = t1[np.isin(t1['STATE'], ne)]\n",
    "cal = t1[np.isin(t1['STATE'], ['California'])]\n",
    "ncal = cal[cal['SITE_LATITUDE']>=34.81]\n",
    "scal = cal[cal['SITE_LATITUDE']<34.81]\n",
    "# nwdf = pd.concat([nwdf, t1[t1[np.isin(t1['STATE'], ['California'])]]['SITE_LATITUDE']>34.81])\n",
    "\n",
    "nwdf = pd.concat([nwdf, ncal])"
   ]
  },
  {
   "cell_type": "markdown",
   "metadata": {},
   "source": [
    "## DATA VALIDATION\n",
    "\n"
   ]
  },
  {
   "cell_type": "code",
   "execution_count": 13,
   "metadata": {},
   "outputs": [],
   "source": [
    "def func_select_11(df):\n",
    "    t = df.groupby(['Date', 'Site ID', 'STATE', 'COUNTY_CODE','COUNTY']).mean()\n",
    "    t = t.reset_index(None)\n",
    "    t1 = t.groupby('Site ID').count()\n",
    "    t11 = t.set_index(['Site ID'])\n",
    "    t11 = t11[t1['Date']>11]\n",
    "    t11 = t11.reset_index(None)\n",
    "    return t11"
   ]
  },
  {
   "cell_type": "markdown",
   "metadata": {},
   "source": [
    "## Annual Interpolations First\n",
    "\n",
    "## Kriging, done per region; others using the earlier setting."
   ]
  },
  {
   "cell_type": "code",
   "execution_count": 14,
   "metadata": {},
   "outputs": [],
   "source": [
    "t1 = t1.groupby('Site ID').mean()\n",
    "t1 = t1.reset_index()"
   ]
  },
  {
   "cell_type": "code",
   "execution_count": 15,
   "metadata": {},
   "outputs": [],
   "source": [
    "X = t1[['SITE_LONGITUDE', 'SITE_LATITUDE']].values\n",
    "y = t1[['Daily Mean PM10 Concentration']].values"
   ]
  },
  {
   "cell_type": "code",
   "execution_count": 16,
   "metadata": {},
   "outputs": [
    {
     "data": {
      "text/html": [
       "<div>\n",
       "<style scoped>\n",
       "    .dataframe tbody tr th:only-of-type {\n",
       "        vertical-align: middle;\n",
       "    }\n",
       "\n",
       "    .dataframe tbody tr th {\n",
       "        vertical-align: top;\n",
       "    }\n",
       "\n",
       "    .dataframe thead th {\n",
       "        text-align: right;\n",
       "    }\n",
       "</style>\n",
       "<table border=\"1\" class=\"dataframe\">\n",
       "  <thead>\n",
       "    <tr style=\"text-align: right;\">\n",
       "      <th></th>\n",
       "      <th>Site ID</th>\n",
       "      <th>Daily Mean PM10 Concentration</th>\n",
       "      <th>PERCENT_COMPLETE</th>\n",
       "      <th>STATE_CODE</th>\n",
       "      <th>COUNTY_CODE</th>\n",
       "      <th>SITE_LATITUDE</th>\n",
       "      <th>SITE_LONGITUDE</th>\n",
       "    </tr>\n",
       "  </thead>\n",
       "  <tbody>\n",
       "    <tr>\n",
       "      <th>count</th>\n",
       "      <td>1.274000e+03</td>\n",
       "      <td>1274.000000</td>\n",
       "      <td>1274.0</td>\n",
       "      <td>1274.000000</td>\n",
       "      <td>1274.000000</td>\n",
       "      <td>1274.000000</td>\n",
       "      <td>1274.000000</td>\n",
       "    </tr>\n",
       "    <tr>\n",
       "      <th>mean</th>\n",
       "      <td>2.656871e+08</td>\n",
       "      <td>28.943658</td>\n",
       "      <td>100.0</td>\n",
       "      <td>26.490581</td>\n",
       "      <td>78.054160</td>\n",
       "      <td>39.630435</td>\n",
       "      <td>-93.767838</td>\n",
       "    </tr>\n",
       "    <tr>\n",
       "      <th>std</th>\n",
       "      <td>1.580209e+08</td>\n",
       "      <td>11.524225</td>\n",
       "      <td>0.0</td>\n",
       "      <td>15.781013</td>\n",
       "      <td>103.015345</td>\n",
       "      <td>4.581312</td>\n",
       "      <td>16.893547</td>\n",
       "    </tr>\n",
       "    <tr>\n",
       "      <th>min</th>\n",
       "      <td>1.015000e+07</td>\n",
       "      <td>3.333333</td>\n",
       "      <td>100.0</td>\n",
       "      <td>1.000000</td>\n",
       "      <td>1.000000</td>\n",
       "      <td>25.794222</td>\n",
       "      <td>-124.162100</td>\n",
       "    </tr>\n",
       "    <tr>\n",
       "      <th>25%</th>\n",
       "      <td>1.000323e+08</td>\n",
       "      <td>22.391667</td>\n",
       "      <td>100.0</td>\n",
       "      <td>10.000000</td>\n",
       "      <td>19.500000</td>\n",
       "      <td>36.558985</td>\n",
       "      <td>-110.833607</td>\n",
       "    </tr>\n",
       "    <tr>\n",
       "      <th>50%</th>\n",
       "      <td>2.703702e+08</td>\n",
       "      <td>27.299806</td>\n",
       "      <td>100.0</td>\n",
       "      <td>27.000000</td>\n",
       "      <td>55.000000</td>\n",
       "      <td>40.069049</td>\n",
       "      <td>-88.133548</td>\n",
       "    </tr>\n",
       "    <tr>\n",
       "      <th>75%</th>\n",
       "      <td>3.914200e+08</td>\n",
       "      <td>33.634208</td>\n",
       "      <td>100.0</td>\n",
       "      <td>39.000000</td>\n",
       "      <td>98.500000</td>\n",
       "      <td>42.638166</td>\n",
       "      <td>-79.992582</td>\n",
       "    </tr>\n",
       "    <tr>\n",
       "      <th>max</th>\n",
       "      <td>5.603900e+08</td>\n",
       "      <td>144.666667</td>\n",
       "      <td>100.0</td>\n",
       "      <td>56.000000</td>\n",
       "      <td>840.000000</td>\n",
       "      <td>48.879323</td>\n",
       "      <td>-67.396792</td>\n",
       "    </tr>\n",
       "  </tbody>\n",
       "</table>\n",
       "</div>"
      ],
      "text/plain": [
       "            Site ID  Daily Mean PM10 Concentration  PERCENT_COMPLETE  \\\n",
       "count  1.274000e+03                    1274.000000            1274.0   \n",
       "mean   2.656871e+08                      28.943658             100.0   \n",
       "std    1.580209e+08                      11.524225               0.0   \n",
       "min    1.015000e+07                       3.333333             100.0   \n",
       "25%    1.000323e+08                      22.391667             100.0   \n",
       "50%    2.703702e+08                      27.299806             100.0   \n",
       "75%    3.914200e+08                      33.634208             100.0   \n",
       "max    5.603900e+08                     144.666667             100.0   \n",
       "\n",
       "        STATE_CODE  COUNTY_CODE  SITE_LATITUDE  SITE_LONGITUDE  \n",
       "count  1274.000000  1274.000000    1274.000000     1274.000000  \n",
       "mean     26.490581    78.054160      39.630435      -93.767838  \n",
       "std      15.781013   103.015345       4.581312       16.893547  \n",
       "min       1.000000     1.000000      25.794222     -124.162100  \n",
       "25%      10.000000    19.500000      36.558985     -110.833607  \n",
       "50%      27.000000    55.000000      40.069049      -88.133548  \n",
       "75%      39.000000    98.500000      42.638166      -79.992582  \n",
       "max      56.000000   840.000000      48.879323      -67.396792  "
      ]
     },
     "execution_count": 16,
     "metadata": {},
     "output_type": "execute_result"
    }
   ],
   "source": [
    "t1.describe()"
   ]
  },
  {
   "cell_type": "markdown",
   "metadata": {},
   "source": [
    "### Spatial Interpolation"
   ]
  },
  {
   "cell_type": "code",
   "execution_count": 17,
   "metadata": {},
   "outputs": [
    {
     "data": {
      "text/plain": [
       "SpatialAverage"
      ]
     },
     "execution_count": 17,
     "metadata": {},
     "output_type": "execute_result"
    }
   ],
   "source": [
    "from ToolkitName.interpolate import SpatialAverage\n",
    "spatial = SpatialAverage(coordinate_type='Geographic', radius=16.1)\n",
    "spatial.fit(X, y)"
   ]
  },
  {
   "cell_type": "code",
   "execution_count": 19,
   "metadata": {},
   "outputs": [],
   "source": [
    "annual_spatial_predictions = np.zeros(centroids.shape[0])\n",
    "\n",
    "for ix in np.arange(0, centroids.shape[0], 1000):\n",
    "    \n",
    "    if centroids.shape[0] - ix >= 1000: \n",
    "        annual_spatial_predictions[ix: ix + 1000] = spatial.predict(centroids[ix:ix + 1000]).reshape(1000, )\n",
    "    \n",
    "    else: \n",
    "        annual_spatial_predictions[ix: ] = spatial.predict(centroids[ix:])"
   ]
  },
  {
   "cell_type": "markdown",
   "metadata": {},
   "source": [
    "### IDW"
   ]
  },
  {
   "cell_type": "code",
   "execution_count": 20,
   "metadata": {},
   "outputs": [],
   "source": [
    "from ToolkitName.interpolate import Idw\n",
    "from ToolkitName.utils.distance import haversine, euclidean\n",
    "idw = Idw(coordinate_type='Geographic')\n",
    "idw.fit(X, y)\n",
    "\n",
    "annual_idw_predictions = np.zeros(centroids.shape[0])\n",
    "for ix, data_point in enumerate(centroids):\n",
    "    distances = haversine(data_point, X)\n",
    "    mask = distances <= 250\n",
    "    X_train = X[mask]\n",
    "    y_train = y[mask]\n",
    "    annual_idw_predictions[ix] = idw.predict(data_point.reshape(1, 2))"
   ]
  },
  {
   "cell_type": "markdown",
   "metadata": {},
   "source": [
    "# $k$-NN\n"
   ]
  },
  {
   "cell_type": "code",
   "execution_count": 21,
   "metadata": {},
   "outputs": [],
   "source": [
    "from ToolkitName.custom import CustomInterpolator\n",
    "from sklearn.neighbors import KNeighborsRegressor\n",
    "knn = CustomInterpolator(KNeighborsRegressor, reg_kwargs={'n_neighbors':1})\n",
    "knn.fit(X, y)\n",
    "annual_knn_predictions = knn.predict(centroids)"
   ]
  },
  {
   "cell_type": "markdown",
   "metadata": {},
   "source": [
    "# Kriging"
   ]
  },
  {
   "cell_type": "code",
   "execution_count": 22,
   "metadata": {},
   "outputs": [],
   "source": [
    "from ToolkitName.interpolate import Kriging"
   ]
  },
  {
   "cell_type": "code",
   "execution_count": 23,
   "metadata": {},
   "outputs": [],
   "source": [
    "annual_krig_predictions = np.zeros(centroids.shape[0])\n",
    "krig = Kriging(variogram_model='spherical', coordinate_type='Geographic')\n",
    "krig.fit(X, y)\n",
    "\n",
    "for ix in np.arange(0, centroids.shape[0], 1000):\n",
    "    \n",
    "    if centroids.shape[0] - ix >= 1000: \n",
    "        annual_krig_predictions[ix: ix + 1000] = krig.predict(centroids[ix:ix + 1000])\n",
    "    \n",
    "    else: \n",
    "        annual_krig_predictions[ix: ] = krig.predict(centroids[ix:])\n"
   ]
  },
  {
   "cell_type": "markdown",
   "metadata": {},
   "source": [
    "## Per Quarter"
   ]
  },
  {
   "cell_type": "markdown",
   "metadata": {},
   "source": [
    "# Q1"
   ]
  },
  {
   "cell_type": "code",
   "execution_count": 24,
   "metadata": {},
   "outputs": [
    {
     "data": {
      "text/html": [
       "<div>\n",
       "<style scoped>\n",
       "    .dataframe tbody tr th:only-of-type {\n",
       "        vertical-align: middle;\n",
       "    }\n",
       "\n",
       "    .dataframe tbody tr th {\n",
       "        vertical-align: top;\n",
       "    }\n",
       "\n",
       "    .dataframe thead th {\n",
       "        text-align: right;\n",
       "    }\n",
       "</style>\n",
       "<table border=\"1\" class=\"dataframe\">\n",
       "  <thead>\n",
       "    <tr style=\"text-align: right;\">\n",
       "      <th></th>\n",
       "      <th>Date</th>\n",
       "      <th>Site ID</th>\n",
       "      <th>Daily Mean PM10 Concentration</th>\n",
       "      <th>PERCENT_COMPLETE</th>\n",
       "      <th>STATE_CODE</th>\n",
       "      <th>STATE</th>\n",
       "      <th>COUNTY_CODE</th>\n",
       "      <th>COUNTY</th>\n",
       "      <th>SITE_LATITUDE</th>\n",
       "      <th>SITE_LONGITUDE</th>\n",
       "    </tr>\n",
       "  </thead>\n",
       "  <tbody>\n",
       "    <tr>\n",
       "      <th>16325</th>\n",
       "      <td>01/05/1990</td>\n",
       "      <td>560010006</td>\n",
       "      <td>34</td>\n",
       "      <td>100.0</td>\n",
       "      <td>56</td>\n",
       "      <td>Wyoming</td>\n",
       "      <td>1</td>\n",
       "      <td>Albany</td>\n",
       "      <td>41.311586</td>\n",
       "      <td>-105.591725</td>\n",
       "    </tr>\n",
       "    <tr>\n",
       "      <th>16326</th>\n",
       "      <td>01/11/1990</td>\n",
       "      <td>560010006</td>\n",
       "      <td>18</td>\n",
       "      <td>100.0</td>\n",
       "      <td>56</td>\n",
       "      <td>Wyoming</td>\n",
       "      <td>1</td>\n",
       "      <td>Albany</td>\n",
       "      <td>41.311586</td>\n",
       "      <td>-105.591725</td>\n",
       "    </tr>\n",
       "    <tr>\n",
       "      <th>16327</th>\n",
       "      <td>01/23/1990</td>\n",
       "      <td>560010006</td>\n",
       "      <td>14</td>\n",
       "      <td>100.0</td>\n",
       "      <td>56</td>\n",
       "      <td>Wyoming</td>\n",
       "      <td>1</td>\n",
       "      <td>Albany</td>\n",
       "      <td>41.311586</td>\n",
       "      <td>-105.591725</td>\n",
       "    </tr>\n",
       "    <tr>\n",
       "      <th>16328</th>\n",
       "      <td>02/10/1990</td>\n",
       "      <td>560010006</td>\n",
       "      <td>12</td>\n",
       "      <td>100.0</td>\n",
       "      <td>56</td>\n",
       "      <td>Wyoming</td>\n",
       "      <td>1</td>\n",
       "      <td>Albany</td>\n",
       "      <td>41.311586</td>\n",
       "      <td>-105.591725</td>\n",
       "    </tr>\n",
       "    <tr>\n",
       "      <th>16329</th>\n",
       "      <td>02/28/1990</td>\n",
       "      <td>560010006</td>\n",
       "      <td>39</td>\n",
       "      <td>100.0</td>\n",
       "      <td>56</td>\n",
       "      <td>Wyoming</td>\n",
       "      <td>1</td>\n",
       "      <td>Albany</td>\n",
       "      <td>41.311586</td>\n",
       "      <td>-105.591725</td>\n",
       "    </tr>\n",
       "  </tbody>\n",
       "</table>\n",
       "</div>"
      ],
      "text/plain": [
       "             Date    Site ID  Daily Mean PM10 Concentration  PERCENT_COMPLETE  \\\n",
       "16325  01/05/1990  560010006                             34             100.0   \n",
       "16326  01/11/1990  560010006                             18             100.0   \n",
       "16327  01/23/1990  560010006                             14             100.0   \n",
       "16328  02/10/1990  560010006                             12             100.0   \n",
       "16329  02/28/1990  560010006                             39             100.0   \n",
       "\n",
       "       STATE_CODE    STATE  COUNTY_CODE  COUNTY  SITE_LATITUDE  SITE_LONGITUDE  \n",
       "16325          56  Wyoming            1  Albany      41.311586     -105.591725  \n",
       "16326          56  Wyoming            1  Albany      41.311586     -105.591725  \n",
       "16327          56  Wyoming            1  Albany      41.311586     -105.591725  \n",
       "16328          56  Wyoming            1  Albany      41.311586     -105.591725  \n",
       "16329          56  Wyoming            1  Albany      41.311586     -105.591725  "
      ]
     },
     "execution_count": 24,
     "metadata": {},
     "output_type": "execute_result"
    }
   ],
   "source": [
    "t2.head()"
   ]
  },
  {
   "cell_type": "code",
   "execution_count": 25,
   "metadata": {},
   "outputs": [],
   "source": [
    "q1 = t2[t2['Date']<='03/31/1990']\n",
    "q1 = func_select_11(q1)\n",
    "q1.drop(columns=['STATE', 'COUNTY_CODE', 'COUNTY', 'PERCENT_COMPLETE'], inplace=True)\n",
    "q1 = q1.groupby('Site ID').mean()\n",
    "X = q1[['SITE_LONGITUDE', 'SITE_LATITUDE']].values\n",
    "y = q1[['Daily Mean PM10 Concentration']].values"
   ]
  },
  {
   "cell_type": "markdown",
   "metadata": {},
   "source": [
    "## Spatial Averaging"
   ]
  },
  {
   "cell_type": "code",
   "execution_count": 26,
   "metadata": {},
   "outputs": [
    {
     "data": {
      "text/plain": [
       "SpatialAverage"
      ]
     },
     "execution_count": 26,
     "metadata": {},
     "output_type": "execute_result"
    }
   ],
   "source": [
    "spatial = SpatialAverage(coordinate_type='Geographic', radius=16.1)\n",
    "spatial.fit(X, y)"
   ]
  },
  {
   "cell_type": "code",
   "execution_count": 27,
   "metadata": {},
   "outputs": [],
   "source": [
    "q1_spatial_predictions = np.zeros(centroids.shape[0])\n",
    "\n",
    "for ix in np.arange(0, centroids.shape[0], 1000):\n",
    "    \n",
    "    if centroids.shape[0] - ix >= 1000: \n",
    "        q1_spatial_predictions[ix: ix + 1000] = spatial.predict(centroids[ix:ix + 1000]).reshape(1000, )\n",
    "    \n",
    "    else: \n",
    "        q1_spatial_predictions[ix: ] = spatial.predict(centroids[ix:])"
   ]
  },
  {
   "cell_type": "markdown",
   "metadata": {},
   "source": [
    "## IDW"
   ]
  },
  {
   "cell_type": "code",
   "execution_count": 28,
   "metadata": {},
   "outputs": [],
   "source": [
    "idw = Idw(coordinate_type='Geographic')\n",
    "idw.fit(X, y)\n",
    "q1_idw_predictions = np.zeros(centroids.shape[0])\n",
    "for ix, data_point in enumerate(centroids):\n",
    "    distances = haversine(data_point, X)\n",
    "    mask = distances <= 250\n",
    "    X_train = X[mask]\n",
    "    y_train = y[mask]\n",
    "    q1_idw_predictions[ix] = idw.predict(data_point.reshape(1, 2))"
   ]
  },
  {
   "cell_type": "markdown",
   "metadata": {},
   "source": [
    "### $k$-NN, with $k = 1$."
   ]
  },
  {
   "cell_type": "code",
   "execution_count": 29,
   "metadata": {},
   "outputs": [],
   "source": [
    "knn = CustomInterpolator(KNeighborsRegressor, reg_kwargs={'n_neighbors':1})\n",
    "knn.fit(X, y)\n",
    "q1_knn_predictions = knn.predict(centroids)"
   ]
  },
  {
   "cell_type": "code",
   "execution_count": 30,
   "metadata": {},
   "outputs": [],
   "source": [
    "q1_krig_predictions = np.zeros(centroids.shape[0])\n",
    "krig = Kriging(variogram_model='spherical', coordinate_type='Geographic')\n",
    "krig.fit(X, y)\n",
    "\n",
    "for ix in np.arange(0, centroids.shape[0], 1000):\n",
    "    \n",
    "    if centroids.shape[0] - ix >= 1000: \n",
    "        q1_krig_predictions[ix: ix + 1000] = krig.predict(centroids[ix:ix + 1000])\n",
    "    \n",
    "    else: \n",
    "        q1_krig_predictions[ix: ] = krig.predict(centroids[ix:])\n"
   ]
  },
  {
   "cell_type": "markdown",
   "metadata": {},
   "source": [
    "# Q2"
   ]
  },
  {
   "cell_type": "code",
   "execution_count": 31,
   "metadata": {},
   "outputs": [],
   "source": [
    "q2 = t2[(t2['Date']>='04/01/1990').values & (t2['Date']<='06/30/1990').values]\n",
    "q2 = func_select_11(q2)\n",
    "q2.drop(columns=['STATE', 'COUNTY_CODE', 'COUNTY', 'PERCENT_COMPLETE'], inplace=True)\n",
    "q2 = q2.groupby('Site ID').mean()\n",
    "X = q2[['SITE_LONGITUDE', 'SITE_LATITUDE']].values\n",
    "y = q2[['Daily Mean PM10 Concentration']].values"
   ]
  },
  {
   "cell_type": "markdown",
   "metadata": {},
   "source": [
    "## Spatial"
   ]
  },
  {
   "cell_type": "code",
   "execution_count": 32,
   "metadata": {},
   "outputs": [],
   "source": [
    "spatial = SpatialAverage(coordinate_type='Geographic', radius=16.1)\n",
    "spatial.fit(X, y)\n",
    "\n",
    "q2_spatial_predictions = np.zeros(centroids.shape[0])\n",
    "\n",
    "for ix in np.arange(0, centroids.shape[0], 1000):\n",
    "    \n",
    "    if centroids.shape[0] - ix >= 1000: \n",
    "        q2_spatial_predictions[ix: ix + 1000] = spatial.predict(centroids[ix:ix + 1000]).reshape(1000, )\n",
    "    \n",
    "    else: \n",
    "        q2_spatial_predictions[ix: ] = spatial.predict(centroids[ix:])"
   ]
  },
  {
   "cell_type": "markdown",
   "metadata": {},
   "source": [
    "## IDW"
   ]
  },
  {
   "cell_type": "code",
   "execution_count": 33,
   "metadata": {},
   "outputs": [],
   "source": [
    "idw = Idw(coordinate_type='Geographic')\n",
    "idw.fit(X, y)\n",
    "q2_idw_predictions = np.zeros(centroids.shape[0])\n",
    "for ix, data_point in enumerate(centroids):\n",
    "    distances = haversine(data_point, X)\n",
    "    mask = distances <= 250\n",
    "    X_train = X[mask]\n",
    "    y_train = y[mask]\n",
    "    q2_idw_predictions[ix] = idw.predict(data_point.reshape(1, 2))"
   ]
  },
  {
   "cell_type": "markdown",
   "metadata": {},
   "source": [
    "## 1NN"
   ]
  },
  {
   "cell_type": "code",
   "execution_count": 34,
   "metadata": {},
   "outputs": [],
   "source": [
    "knn = CustomInterpolator(KNeighborsRegressor, reg_kwargs={'n_neighbors':1})\n",
    "knn.fit(X, y)\n",
    "q2_knn_predictions = knn.predict(centroids)"
   ]
  },
  {
   "cell_type": "code",
   "execution_count": 35,
   "metadata": {},
   "outputs": [],
   "source": [
    "q2_krig_predictions = np.zeros(centroids.shape[0])\n",
    "krig = Kriging(variogram_model='spherical', coordinate_type='Geographic')\n",
    "krig.fit(X, y)\n",
    "\n",
    "for ix in np.arange(0, centroids.shape[0], 1000):\n",
    "    \n",
    "    if centroids.shape[0] - ix >= 1000: \n",
    "        q2_krig_predictions[ix: ix + 1000] = krig.predict(centroids[ix:ix + 1000])\n",
    "    \n",
    "    else: \n",
    "        q2_krig_predictions[ix: ] = krig.predict(centroids[ix:])\n"
   ]
  },
  {
   "cell_type": "markdown",
   "metadata": {},
   "source": [
    "# Q3"
   ]
  },
  {
   "cell_type": "code",
   "execution_count": 37,
   "metadata": {},
   "outputs": [],
   "source": [
    "q3 = t2[(t2['Date']>='07/01/1990').values & (t2['Date']<='09/30/1990').values]\n",
    "q3 = func_select_11(q3)\n",
    "q3.drop(columns=['STATE', 'COUNTY_CODE', 'COUNTY', 'PERCENT_COMPLETE'], inplace=True)\n",
    "q3 = q3.groupby('Site ID').mean()\n",
    "X = q3[['SITE_LONGITUDE', 'SITE_LATITUDE']].values\n",
    "y = q3[['Daily Mean PM10 Concentration']].values\n",
    "\n",
    "\n",
    "spatial = SpatialAverage(coordinate_type='Geographic', radius=16.1)\n",
    "spatial.fit(X, y)\n",
    "\n",
    "q3_spatial_predictions = np.zeros(centroids.shape[0])\n",
    "\n",
    "for ix in np.arange(0, centroids.shape[0], 1000):\n",
    "    \n",
    "    if centroids.shape[0] - ix >= 1000: \n",
    "        q3_spatial_predictions[ix: ix + 1000] = spatial.predict(centroids[ix:ix + 1000]).reshape(1000, )\n",
    "    \n",
    "    else: \n",
    "        q3_spatial_predictions[ix: ] = spatial.predict(centroids[ix:])\n",
    "        \n",
    "idw = Idw(coordinate_type='Geographic')\n",
    "idw.fit(X, y)\n",
    "q3_idw_predictions = np.zeros(centroids.shape[0])\n",
    "for ix, data_point in enumerate(centroids):\n",
    "    distances = haversine(data_point, X)\n",
    "    mask = distances <= 250\n",
    "    X_train = X[mask]\n",
    "    y_train = y[mask]\n",
    "    q3_idw_predictions[ix] = idw.predict(data_point.reshape(1, 2))       \n",
    "\n",
    "knn = CustomInterpolator(KNeighborsRegressor, reg_kwargs={'n_neighbors':1})\n",
    "knn.fit(X, y)\n",
    "q3_knn_predictions = knn.predict(centroids)\n",
    "\n",
    "q3_krig_predictions = np.zeros(centroids.shape[0])\n",
    "krig = Kriging(variogram_model='spherical', coordinate_type='Geographic')\n",
    "krig.fit(X, y)\n",
    "for ix in np.arange(0, centroids.shape[0], 1000):\n",
    "    \n",
    "    if centroids.shape[0] - ix >= 1000: \n",
    "        q3_krig_predictions[ix: ix + 1000] = krig.predict(centroids[ix:ix + 1000])\n",
    "    \n",
    "    else: \n",
    "        q3_krig_predictions[ix: ] = krig.predict(centroids[ix:])\n"
   ]
  },
  {
   "cell_type": "markdown",
   "metadata": {},
   "source": [
    "# Q4"
   ]
  },
  {
   "cell_type": "code",
   "execution_count": 38,
   "metadata": {},
   "outputs": [],
   "source": [
    "q4 = t2[(t2['Date']>='10/01/1990').values ]\n",
    "q4 = func_select_11(q4)\n",
    "q4.drop(columns=['STATE', 'COUNTY_CODE', 'COUNTY', 'PERCENT_COMPLETE'], inplace=True)\n",
    "q4 = q4.groupby('Site ID').mean()\n",
    "X = q4[['SITE_LONGITUDE', 'SITE_LATITUDE']].values\n",
    "y = q4[['Daily Mean PM10 Concentration']].values\n",
    "\n",
    "\n",
    "spatial = SpatialAverage(coordinate_type='Geographic', radius=16.1)\n",
    "spatial.fit(X, y)\n",
    "\n",
    "q4_spatial_predictions = np.zeros(centroids.shape[0])\n",
    "\n",
    "for ix in np.arange(0, centroids.shape[0], 1000):\n",
    "    \n",
    "    if centroids.shape[0] - ix >= 1000: \n",
    "        q4_spatial_predictions[ix: ix + 1000] = spatial.predict(centroids[ix:ix + 1000]).reshape(1000, )\n",
    "    \n",
    "    else: \n",
    "        q4_spatial_predictions[ix: ] = spatial.predict(centroids[ix:])\n",
    "        \n",
    "idw = Idw(coordinate_type='Geographic')\n",
    "idw.fit(X, y)\n",
    "q4_idw_predictions = np.zeros(centroids.shape[0])\n",
    "for ix, data_point in enumerate(centroids):\n",
    "    distances = haversine(data_point, X)\n",
    "    mask = distances <= 250\n",
    "    X_train = X[mask]\n",
    "    y_train = y[mask]\n",
    "    q4_idw_predictions[ix] = idw.predict(data_point.reshape(1, 2))       \n",
    "\n",
    "knn = CustomInterpolator(KNeighborsRegressor, reg_kwargs={'n_neighbors':1})\n",
    "knn.fit(X, y)\n",
    "\n",
    "q4_knn_predictions = knn.predict(centroids)\n",
    "\n",
    "\n",
    "q4_krig_predictions = np.zeros(centroids.shape[0])\n",
    "krig = Kriging(variogram_model='spherical', coordinate_type='Geographic')\n",
    "krig.fit(X, y)\n",
    "for ix in np.arange(0, centroids.shape[0], 1000):\n",
    "    \n",
    "    if centroids.shape[0] - ix >= 1000: \n",
    "        q4_krig_predictions[ix: ix + 1000] = krig.predict(centroids[ix:ix + 1000])\n",
    "    \n",
    "    else: \n",
    "        q4_krig_predictions[ix: ] = krig.predict(centroids[ix:])\n"
   ]
  },
  {
   "cell_type": "code",
   "execution_count": 39,
   "metadata": {},
   "outputs": [],
   "source": [
    "from scipy.stats import pearsonr"
   ]
  },
  {
   "cell_type": "markdown",
   "metadata": {},
   "source": [
    "ANNUAL"
   ]
  },
  {
   "cell_type": "code",
   "execution_count": 40,
   "metadata": {},
   "outputs": [
    {
     "data": {
      "text/plain": [
       "((0.8676398793998185, 0.0),)"
      ]
     },
     "execution_count": 40,
     "metadata": {},
     "output_type": "execute_result"
    }
   ],
   "source": [
    "pearsonr(annual_idw_predictions, annual_krig_predictions), "
   ]
  },
  {
   "cell_type": "code",
   "execution_count": 41,
   "metadata": {},
   "outputs": [
    {
     "data": {
      "text/plain": [
       "((0.873904360729131, 0.0),)"
      ]
     },
     "execution_count": 41,
     "metadata": {},
     "output_type": "execute_result"
    }
   ],
   "source": [
    "pearsonr(annual_idw_predictions, annual_knn_predictions.reshape(-1, )),"
   ]
  },
  {
   "cell_type": "code",
   "execution_count": 42,
   "metadata": {},
   "outputs": [
    {
     "data": {
      "text/plain": [
       "(0.7291435559742303, 0.0)"
      ]
     },
     "execution_count": 42,
     "metadata": {},
     "output_type": "execute_result"
    }
   ],
   "source": [
    "pearsonr(annual_krig_predictions, annual_knn_predictions.reshape(-1, ))"
   ]
  },
  {
   "cell_type": "code",
   "execution_count": 43,
   "metadata": {},
   "outputs": [],
   "source": [
    "mask = ~np.isnan(annual_spatial_predictions)"
   ]
  },
  {
   "cell_type": "code",
   "execution_count": 44,
   "metadata": {},
   "outputs": [
    {
     "data": {
      "text/plain": [
       "(0.9490029145269329, 0.0)"
      ]
     },
     "execution_count": 44,
     "metadata": {},
     "output_type": "execute_result"
    }
   ],
   "source": [
    "pearsonr(annual_idw_predictions[mask], annual_spatial_predictions[mask])"
   ]
  },
  {
   "cell_type": "code",
   "execution_count": 45,
   "metadata": {},
   "outputs": [
    {
     "data": {
      "text/plain": [
       "(0.9066252921085345, 0.0)"
      ]
     },
     "execution_count": 45,
     "metadata": {},
     "output_type": "execute_result"
    }
   ],
   "source": [
    "pearsonr(annual_knn_predictions.reshape(-1, )[mask], annual_spatial_predictions[mask])"
   ]
  },
  {
   "cell_type": "code",
   "execution_count": 46,
   "metadata": {
    "scrolled": true
   },
   "outputs": [
    {
     "data": {
      "text/plain": [
       "(0.8287710862153234, 0.0)"
      ]
     },
     "execution_count": 46,
     "metadata": {},
     "output_type": "execute_result"
    }
   ],
   "source": [
    "pearsonr(annual_krig_predictions.reshape(-1, )[mask], annual_spatial_predictions[mask])"
   ]
  },
  {
   "cell_type": "code",
   "execution_count": 47,
   "metadata": {},
   "outputs": [
    {
     "data": {
      "text/plain": [
       "((0.8995078496084847, 0.0),)"
      ]
     },
     "execution_count": 47,
     "metadata": {},
     "output_type": "execute_result"
    }
   ],
   "source": [
    "pearsonr(q3_idw_predictions, q3_krig_predictions), "
   ]
  },
  {
   "cell_type": "code",
   "execution_count": 48,
   "metadata": {},
   "outputs": [
    {
     "data": {
      "text/plain": [
       "((0.8780658163368463, 0.0),)"
      ]
     },
     "execution_count": 48,
     "metadata": {},
     "output_type": "execute_result"
    }
   ],
   "source": [
    "pearsonr(q3_idw_predictions, q3_knn_predictions.reshape(-1, )),"
   ]
  },
  {
   "cell_type": "code",
   "execution_count": 49,
   "metadata": {},
   "outputs": [
    {
     "data": {
      "text/plain": [
       "(0.7884358798913053, 0.0)"
      ]
     },
     "execution_count": 49,
     "metadata": {},
     "output_type": "execute_result"
    }
   ],
   "source": [
    "pearsonr(q3_krig_predictions, q3_knn_predictions.reshape(-1, ))"
   ]
  },
  {
   "cell_type": "code",
   "execution_count": 50,
   "metadata": {},
   "outputs": [],
   "source": [
    "mask = ~np.isnan(q3_spatial_predictions)"
   ]
  },
  {
   "cell_type": "code",
   "execution_count": 51,
   "metadata": {},
   "outputs": [
    {
     "data": {
      "text/plain": [
       "(0.957193084501417, 0.0)"
      ]
     },
     "execution_count": 51,
     "metadata": {},
     "output_type": "execute_result"
    }
   ],
   "source": [
    "pearsonr(q3_idw_predictions[mask], q3_spatial_predictions[mask])"
   ]
  },
  {
   "cell_type": "code",
   "execution_count": 52,
   "metadata": {},
   "outputs": [
    {
     "data": {
      "text/plain": [
       "(0.9360371397627134, 0.0)"
      ]
     },
     "execution_count": 52,
     "metadata": {},
     "output_type": "execute_result"
    }
   ],
   "source": [
    "pearsonr(q3_knn_predictions.reshape(-1, )[mask], q3_spatial_predictions[mask])"
   ]
  },
  {
   "cell_type": "code",
   "execution_count": 53,
   "metadata": {},
   "outputs": [
    {
     "data": {
      "text/plain": [
       "(0.850846836750555, 0.0)"
      ]
     },
     "execution_count": 53,
     "metadata": {},
     "output_type": "execute_result"
    }
   ],
   "source": [
    "pearsonr(q3_krig_predictions.reshape(-1, )[mask], q3_spatial_predictions[mask])"
   ]
  },
  {
   "cell_type": "markdown",
   "metadata": {},
   "source": [
    "## Annual Range of Estimates"
   ]
  },
  {
   "cell_type": "code",
   "execution_count": 54,
   "metadata": {},
   "outputs": [],
   "source": [
    "import matplotlib\n",
    "matplotlib.rcParams['text.usetex'] = True"
   ]
  },
  {
   "cell_type": "code",
   "execution_count": 55,
   "metadata": {},
   "outputs": [],
   "source": [
    "annual_knn_predictions = annual_knn_predictions.reshape(-1, )\n",
    "annual_idw_predictions = annual_idw_predictions.reshape(-1, )\n",
    "annual_spatial_predictions = annual_spatial_predictions.reshape(-1, )\n",
    "annual_krig_predictions = annual_krig_predictions.reshape(-1, )"
   ]
  },
  {
   "cell_type": "code",
   "execution_count": 56,
   "metadata": {},
   "outputs": [],
   "source": [
    "temp = []\n",
    "for ix in range(annual_knn_predictions.shape[0]):\n",
    "    temp.append([\n",
    "                    annual_krig_predictions[ix], annual_knn_predictions[ix], annual_idw_predictions[ix], annual_spatial_predictions[ix]\n",
    "                ])"
   ]
  },
  {
   "cell_type": "code",
   "execution_count": 57,
   "metadata": {},
   "outputs": [],
   "source": [
    "hist = []\n",
    "for ix, _ in enumerate(temp):\n",
    "    mask = ~np.isnan(temp[ix])\n",
    "    if mask.sum() < 4:\n",
    "        if mask.sum() >= 2:\n",
    "            temp2 = np.array(temp[ix])[mask]\n",
    "            maximum_value = np.max(temp2)\n",
    "            minimum_value = np.min(temp2)\n",
    "            hist.append(maximum_value - minimum_value)\n",
    "        \n",
    "    if mask.sum() == 4:\n",
    "        maximum_value = np.max(temp[ix])\n",
    "        minimum_value = np.min(temp[ix])\n",
    "        hist.append(maximum_value - minimum_value)"
   ]
  },
  {
   "cell_type": "code",
   "execution_count": 58,
   "metadata": {},
   "outputs": [
    {
     "data": {
      "text/plain": [
       "(215891, 161328, 205578)"
      ]
     },
     "execution_count": 58,
     "metadata": {},
     "output_type": "execute_result"
    }
   ],
   "source": [
    "len(hist), (np.array(hist)<7).sum(), (np.array(hist)<15).sum()"
   ]
  },
  {
   "cell_type": "code",
   "execution_count": 61,
   "metadata": {},
   "outputs": [],
   "source": [
    "from sklearn.neighbors import KernelDensity"
   ]
  },
  {
   "cell_type": "code",
   "execution_count": 62,
   "metadata": {},
   "outputs": [
    {
     "data": {
      "image/png": "[encoded data removed]",
      "text/plain": [
       "<Figure size 1152x864 with 1 Axes>"
      ]
     },
     "metadata": {
      "needs_background": "light"
     },
     "output_type": "display_data"
    }
   ],
   "source": [
    "fig = plt.figure(figsize=(16, 12))\n",
    "\n",
    "# instantiate and fit the KDE model\n",
    "kde = KernelDensity(bandwidth=1.0, kernel='gaussian')\n",
    "kde.fit(np.array(hist)[:, None])\n",
    "\n",
    "x_d = np.linspace(0, 50, 1000)\n",
    "# score_samples returns the log of the probability density\n",
    "logprob = kde.score_samples(x_d[:, None])\n",
    "\n",
    "plt.fill_between(x_d, np.exp(logprob), alpha=0.5)\n",
    "plt.plot(np.array(hist), np.full_like(np.array(hist), -0.01), '|k', markeredgewidth=1)\n",
    "# plt.ylim(-0.02, 0.22)\n",
    "\n",
    "plt.title(\"PM10 - range of estimates\", fontsize=40)\n",
    "plt.xlabel(\"Range of Estimated PM10 values\", fontsize=30)\n",
    "plt.ylabel(\"Density\",fontsize = 30)\n",
    "plt.tick_params(axis='both', labelsize=24)"
   ]
  },
  {
   "cell_type": "markdown",
   "metadata": {},
   "source": [
    "## Q3 Range of Estimates"
   ]
  },
  {
   "cell_type": "code",
   "execution_count": 63,
   "metadata": {},
   "outputs": [],
   "source": [
    "q3_knn_predictions = q3_knn_predictions.reshape(-1, )\n",
    "q3_idw_predictions = q3_idw_predictions.reshape(-1, )\n",
    "q3_spatial_predictions = q3_spatial_predictions.reshape(-1, )\n",
    "q3_krig_predictions = q3_krig_predictions.reshape(-1, )\n",
    "\n",
    "temp = []\n",
    "for ix in range(q3_knn_predictions.shape[0]):\n",
    "    temp.append([\n",
    "                    q3_krig_predictions[ix], q3_knn_predictions[ix], q3_idw_predictions[ix], q3_spatial_predictions[ix]\n",
    "                ])\n",
    "\n",
    "hist = []\n",
    "for ix, _ in enumerate(temp):\n",
    "    mask = ~np.isnan(temp[ix])\n",
    "    if mask.sum() < 4:\n",
    "        if mask.sum() >= 2:\n",
    "            temp2 = np.array(temp[ix])[mask]\n",
    "            maximum_value = np.max(temp2)\n",
    "            minimum_value = np.min(temp2)\n",
    "            hist.append(maximum_value - minimum_value)\n",
    "        \n",
    "    if mask.sum() == 4:\n",
    "        maximum_value = np.max(temp[ix])\n",
    "        minimum_value = np.min(temp[ix])\n",
    "        hist.append(maximum_value - minimum_value)"
   ]
  },
  {
   "cell_type": "code",
   "execution_count": 64,
   "metadata": {},
   "outputs": [
    {
     "data": {
      "image/png": "[encoded data removed]",
      "text/plain": [
       "<Figure size 1152x864 with 1 Axes>"
      ]
     },
     "metadata": {
      "needs_background": "light"
     },
     "output_type": "display_data"
    }
   ],
   "source": [
    "fig = plt.figure(figsize=(16, 12))\n",
    "\n",
    "# instantiate and fit the KDE model\n",
    "kde = KernelDensity(bandwidth=1.0, kernel='gaussian')\n",
    "kde.fit(np.array(hist)[:, None])\n",
    "\n",
    "x_d = np.linspace(0, 50, 1000)\n",
    "# score_samples returns the log of the probability density\n",
    "logprob = kde.score_samples(x_d[:, None])\n",
    "\n",
    "plt.fill_between(x_d, np.exp(logprob), alpha=0.5)\n",
    "plt.plot(np.array(hist), np.full_like(np.array(hist), -0.01), '|k', markeredgewidth=1)\n",
    "# plt.ylim(-0.02, 0.22)\n",
    "\n",
    "plt.title(\"PM10 - range of estimates\", fontsize=40)\n",
    "plt.xlabel(\"Range of Estimated PM10 values\", fontsize=30)\n",
    "plt.ylabel(\"Density\",fontsize = 30)\n",
    "plt.tick_params(axis='both', labelsize=24)"
   ]
  }
 ],
 "metadata": {
  "kernelspec": {
   "display_name": "Python 3",
   "language": "python",
   "name": "python3"
  },
  "language_info": {
   "codemirror_mode": {
    "name": "ipython",
    "version": 3
   },
   "file_extension": ".py",
   "mimetype": "text/x-python",
   "name": "python",
   "nbconvert_exporter": "python",
   "pygments_lexer": "ipython3",
   "version": "3.7.3"
  }
 },
 "nbformat": 4,
 "nbformat_minor": 2
}
