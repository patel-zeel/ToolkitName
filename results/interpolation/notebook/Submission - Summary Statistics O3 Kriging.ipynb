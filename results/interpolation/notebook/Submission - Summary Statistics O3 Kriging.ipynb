{
 "cells": [
  {
   "cell_type": "code",
   "execution_count": 1,
   "metadata": {},
   "outputs": [],
   "source": [
    "import warnings\n",
    "warnings.filterwarnings(\"ignore\")"
   ]
  },
  {
   "cell_type": "code",
   "execution_count": 2,
   "metadata": {},
   "outputs": [],
   "source": [
    "import pandas as pd\n",
    "import matplotlib.pyplot as plt\n",
    "import numpy as np\n",
    "import sys\n",
    "sys.path.append(\"../../../\")\n",
    "%load_ext autoreload\n",
    "%autoreload 2"
   ]
  },
  {
   "cell_type": "code",
   "execution_count": 3,
   "metadata": {},
   "outputs": [],
   "source": [
    "california_ozone = pd.read_csv(\"../dataset/cal_o3.csv\", index_col = None)"
   ]
  },
  {
   "cell_type": "code",
   "execution_count": 4,
   "metadata": {},
   "outputs": [],
   "source": [
    "cadf = california_ozone\n",
    "\n",
    "cadf = cadf[cadf['Time Local'] <= '18:00']\n",
    "cadf = cadf[cadf['Time Local'] >= '10:00']"
   ]
  },
  {
   "cell_type": "code",
   "execution_count": 5,
   "metadata": {},
   "outputs": [],
   "source": [
    "county_codes = cadf['County Code'].values\n",
    "site_code = cadf['Site Num'].values\n",
    "site_id = [str(county_codes[i]) + str(site_code[i]) for i in range(len(county_codes))]"
   ]
  },
  {
   "cell_type": "code",
   "execution_count": 6,
   "metadata": {},
   "outputs": [],
   "source": [
    "cadf['ID'] = site_id"
   ]
  },
  {
   "cell_type": "code",
   "execution_count": 7,
   "metadata": {},
   "outputs": [
    {
     "data": {
      "text/plain": [
       "Index(['State Code', 'County Code', 'Site Num', 'Parameter Code', 'POC',\n",
       "       'Latitude', 'Longitude', 'Datum', 'Parameter Name', 'Date Local',\n",
       "       'Time Local', 'Date GMT', 'Time GMT', 'Sample Measurement',\n",
       "       'Units of Measure', 'MDL', 'Uncertainty', 'Qualifier', 'Method Type',\n",
       "       'Method Code', 'Method Name', 'State Name', 'County Name',\n",
       "       'Date of Last Change', 'ID'],\n",
       "      dtype='object')"
      ]
     },
     "execution_count": 7,
     "metadata": {},
     "output_type": "execute_result"
    }
   ],
   "source": [
    "cadf.columns"
   ]
  },
  {
   "cell_type": "code",
   "execution_count": 8,
   "metadata": {},
   "outputs": [],
   "source": [
    "mask = cadf.groupby(['ID', 'Date Local'])['Sample Measurement'].count() >= 8"
   ]
  },
  {
   "cell_type": "code",
   "execution_count": 9,
   "metadata": {},
   "outputs": [],
   "source": [
    "cadf = cadf.groupby(['ID', 'Date Local']).mean()[mask]"
   ]
  },
  {
   "cell_type": "code",
   "execution_count": 10,
   "metadata": {},
   "outputs": [],
   "source": [
    "cadf.reset_index(inplace=True)"
   ]
  },
  {
   "cell_type": "code",
   "execution_count": 11,
   "metadata": {},
   "outputs": [],
   "source": [
    "cadf = cadf[['ID', 'Date Local', 'Latitude', 'Longitude', 'Sample Measurement']]"
   ]
  },
  {
   "cell_type": "code",
   "execution_count": 12,
   "metadata": {},
   "outputs": [],
   "source": [
    "m1 = cadf['Date Local'] >= '1990-05-01'\n",
    "m2 = cadf['Date Local'] <= '1990-09-30'\n",
    "mf = m1 & m2\n",
    "cadf = cadf[mf]"
   ]
  },
  {
   "cell_type": "code",
   "execution_count": 13,
   "metadata": {},
   "outputs": [],
   "source": [
    "m4 = cadf.groupby('ID').count()>=115"
   ]
  },
  {
   "cell_type": "code",
   "execution_count": 14,
   "metadata": {},
   "outputs": [],
   "source": [
    "cadf = cadf.groupby('ID').mean()[m4]"
   ]
  },
  {
   "cell_type": "code",
   "execution_count": 15,
   "metadata": {},
   "outputs": [],
   "source": [
    "cadf.dropna(inplace = True)"
   ]
  },
  {
   "cell_type": "code",
   "execution_count": 16,
   "metadata": {},
   "outputs": [],
   "source": [
    "ca_df = cadf.copy()"
   ]
  },
  {
   "cell_type": "markdown",
   "metadata": {},
   "source": [
    "## Summary Statistics for Kriging Interpolation in California"
   ]
  },
  {
   "cell_type": "code",
   "execution_count": 17,
   "metadata": {
    "scrolled": true
   },
   "outputs": [
    {
     "data": {
      "text/html": [
       "<div>\n",
       "<style scoped>\n",
       "    .dataframe tbody tr th:only-of-type {\n",
       "        vertical-align: middle;\n",
       "    }\n",
       "\n",
       "    .dataframe tbody tr th {\n",
       "        vertical-align: top;\n",
       "    }\n",
       "\n",
       "    .dataframe thead th {\n",
       "        text-align: right;\n",
       "    }\n",
       "</style>\n",
       "<table border=\"1\" class=\"dataframe\">\n",
       "  <thead>\n",
       "    <tr style=\"text-align: right;\">\n",
       "      <th></th>\n",
       "      <th>Latitude</th>\n",
       "      <th>Longitude</th>\n",
       "      <th>Sample Measurement</th>\n",
       "    </tr>\n",
       "    <tr>\n",
       "      <th>ID</th>\n",
       "      <th></th>\n",
       "      <th></th>\n",
       "      <th></th>\n",
       "    </tr>\n",
       "  </thead>\n",
       "  <tbody>\n",
       "    <tr>\n",
       "      <th>1012</th>\n",
       "      <td>38.848232</td>\n",
       "      <td>-121.515236</td>\n",
       "      <td>0.046687</td>\n",
       "    </tr>\n",
       "    <tr>\n",
       "      <th>1013</th>\n",
       "      <td>39.138773</td>\n",
       "      <td>-121.618549</td>\n",
       "      <td>0.043239</td>\n",
       "    </tr>\n",
       "    <tr>\n",
       "      <th>1072002</th>\n",
       "      <td>36.332179</td>\n",
       "      <td>-119.291228</td>\n",
       "      <td>0.065835</td>\n",
       "    </tr>\n",
       "    <tr>\n",
       "      <th>1075</th>\n",
       "      <td>36.493557</td>\n",
       "      <td>-118.829543</td>\n",
       "      <td>0.072096</td>\n",
       "    </tr>\n",
       "    <tr>\n",
       "      <th>1076</th>\n",
       "      <td>36.566128</td>\n",
       "      <td>-118.777700</td>\n",
       "      <td>0.067197</td>\n",
       "    </tr>\n",
       "    <tr>\n",
       "      <th>...</th>\n",
       "      <td>...</td>\n",
       "      <td>...</td>\n",
       "      <td>...</td>\n",
       "    </tr>\n",
       "    <tr>\n",
       "      <th>974001</th>\n",
       "      <td>38.295747</td>\n",
       "      <td>-122.457758</td>\n",
       "      <td>0.037412</td>\n",
       "    </tr>\n",
       "    <tr>\n",
       "      <th>991003</th>\n",
       "      <td>37.522712</td>\n",
       "      <td>-120.867707</td>\n",
       "      <td>0.056614</td>\n",
       "    </tr>\n",
       "    <tr>\n",
       "      <th>991004</th>\n",
       "      <td>37.371047</td>\n",
       "      <td>-121.133265</td>\n",
       "      <td>0.054918</td>\n",
       "    </tr>\n",
       "    <tr>\n",
       "      <th>992003</th>\n",
       "      <td>37.538265</td>\n",
       "      <td>-121.272993</td>\n",
       "      <td>0.052013</td>\n",
       "    </tr>\n",
       "    <tr>\n",
       "      <th>995</th>\n",
       "      <td>37.642165</td>\n",
       "      <td>-120.994212</td>\n",
       "      <td>0.049978</td>\n",
       "    </tr>\n",
       "  </tbody>\n",
       "</table>\n",
       "<p>154 rows × 3 columns</p>\n",
       "</div>"
      ],
      "text/plain": [
       "          Latitude   Longitude  Sample Measurement\n",
       "ID                                                \n",
       "1012     38.848232 -121.515236            0.046687\n",
       "1013     39.138773 -121.618549            0.043239\n",
       "1072002  36.332179 -119.291228            0.065835\n",
       "1075     36.493557 -118.829543            0.072096\n",
       "1076     36.566128 -118.777700            0.067197\n",
       "...            ...         ...                 ...\n",
       "974001   38.295747 -122.457758            0.037412\n",
       "991003   37.522712 -120.867707            0.056614\n",
       "991004   37.371047 -121.133265            0.054918\n",
       "992003   37.538265 -121.272993            0.052013\n",
       "995      37.642165 -120.994212            0.049978\n",
       "\n",
       "[154 rows x 3 columns]"
      ]
     },
     "execution_count": 17,
     "metadata": {},
     "output_type": "execute_result"
    }
   ],
   "source": [
    "ca_df"
   ]
  },
  {
   "cell_type": "code",
   "execution_count": 18,
   "metadata": {},
   "outputs": [],
   "source": [
    "import geopandas as gpd\n",
    "g_df = gpd.read_file(\"../block_groups/california/tl_2016_06_bg.shp\")"
   ]
  },
  {
   "cell_type": "code",
   "execution_count": 19,
   "metadata": {},
   "outputs": [
    {
     "data": {
      "text/plain": [
       "('+41.9466483', '+32.5447420')"
      ]
     },
     "execution_count": 19,
     "metadata": {},
     "output_type": "execute_result"
    }
   ],
   "source": [
    "g_df['INTPTLAT'].max(), g_df['INTPTLAT'].min(), "
   ]
  },
  {
   "cell_type": "code",
   "execution_count": 20,
   "metadata": {},
   "outputs": [],
   "source": [
    "shapes = g_df['geometry'].unique()\n",
    "centroids = [shapes[i].centroid.wkt for i in range(len(shapes))]\n",
    "centroids = [centroids[i].split(' ')[1:] for i in range(len(centroids))]\n",
    "centroids = [[np.float64(centroids[i][0][1:]), np.float64(centroids[i][1][:-1])] for i in range(len(centroids))]\n",
    "centroids = np.array(centroids)"
   ]
  },
  {
   "cell_type": "code",
   "execution_count": 21,
   "metadata": {},
   "outputs": [
    {
     "data": {
      "text/plain": [
       "(array([-124.27033744,   32.54474204]), array([-114.29862718,   41.94353816]))"
      ]
     },
     "execution_count": 21,
     "metadata": {},
     "output_type": "execute_result"
    }
   ],
   "source": [
    "centroids.min(axis=0), centroids.max(axis=0)"
   ]
  },
  {
   "cell_type": "code",
   "execution_count": 22,
   "metadata": {},
   "outputs": [],
   "source": [
    "X = ca_df[['Longitude', 'Latitude']].values\n",
    "y = ca_df[['Sample Measurement']].values*1000"
   ]
  },
  {
   "cell_type": "code",
   "execution_count": 23,
   "metadata": {},
   "outputs": [],
   "source": [
    "from ToolkitName.interpolate import Kriging\n",
    "## PyKrige takes Longitude Values in the Range 0 to 360 => Add 360 to our values!\n",
    "X_krig = X.copy()\n",
    "X_test_krig = centroids.copy()\n",
    "# X_krig[:, 0] = X_krig[:, 0] + 360\n",
    "krig = Kriging(variogram_model='spherical', coordinate_type='Geographic')\n",
    "krig.fit(X_krig, y)\n",
    "\n",
    "X_test_krig[:, 0] = X_test_krig[:, 0] + 360\n",
    "krig_predictions = krig.predict(X_test_krig)"
   ]
  },
  {
   "cell_type": "code",
   "execution_count": 24,
   "metadata": {},
   "outputs": [
    {
     "data": {
      "text/plain": [
       "(42.34144802768469, 52.5939196233051, 60.12069512413621, 51.19120519687345)"
      ]
     },
     "execution_count": 24,
     "metadata": {},
     "output_type": "execute_result"
    }
   ],
   "source": [
    "np.percentile(krig_predictions, 25), np.percentile(krig_predictions, 50), np.percentile(krig_predictions, 75), np.mean(krig_predictions)"
   ]
  }
 ],
 "metadata": {
  "kernelspec": {
   "display_name": "Python 3",
   "language": "python",
   "name": "python3"
  },
  "language_info": {
   "codemirror_mode": {
    "name": "ipython",
    "version": 3
   },
   "file_extension": ".py",
   "mimetype": "text/x-python",
   "name": "python",
   "nbconvert_exporter": "python",
   "pygments_lexer": "ipython3",
   "version": "3.7.3"
  }
 },
 "nbformat": 4,
 "nbformat_minor": 2
}
