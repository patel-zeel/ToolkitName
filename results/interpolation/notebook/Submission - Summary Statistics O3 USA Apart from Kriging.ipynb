{
 "cells": [
  {
   "cell_type": "code",
   "execution_count": 1,
   "metadata": {},
   "outputs": [],
   "source": [
    "import warnings\n",
    "warnings.filterwarnings(\"ignore\")"
   ]
  },
  {
   "cell_type": "code",
   "execution_count": 2,
   "metadata": {},
   "outputs": [],
   "source": [
    "import pandas as pd\n",
    "import matplotlib.pyplot as plt\n",
    "import numpy as np\n",
    "import sys\n",
    "import geopandas as gpd\n",
    "sys.path.append(\"../../../\")\n",
    "%load_ext autoreload\n",
    "%autoreload 2"
   ]
  },
  {
   "cell_type": "code",
   "execution_count": 3,
   "metadata": {},
   "outputs": [],
   "source": [
    "df = pd.read_csv(\"../dataset/usa_o3.csv\")"
   ]
  },
  {
   "cell_type": "code",
   "execution_count": 4,
   "metadata": {},
   "outputs": [
    {
     "data": {
      "text/html": [
       "<div>\n",
       "<style scoped>\n",
       "    .dataframe tbody tr th:only-of-type {\n",
       "        vertical-align: middle;\n",
       "    }\n",
       "\n",
       "    .dataframe tbody tr th {\n",
       "        vertical-align: top;\n",
       "    }\n",
       "\n",
       "    .dataframe thead th {\n",
       "        text-align: right;\n",
       "    }\n",
       "</style>\n",
       "<table border=\"1\" class=\"dataframe\">\n",
       "  <thead>\n",
       "    <tr style=\"text-align: right;\">\n",
       "      <th></th>\n",
       "      <th>Latitude</th>\n",
       "      <th>Longitude</th>\n",
       "      <th>Sample Measurement</th>\n",
       "    </tr>\n",
       "  </thead>\n",
       "  <tbody>\n",
       "    <tr>\n",
       "      <th>0</th>\n",
       "      <td>37.858932</td>\n",
       "      <td>-87.575291</td>\n",
       "      <td>0.040264</td>\n",
       "    </tr>\n",
       "    <tr>\n",
       "      <th>1</th>\n",
       "      <td>40.049604</td>\n",
       "      <td>-75.241209</td>\n",
       "      <td>0.046745</td>\n",
       "    </tr>\n",
       "    <tr>\n",
       "      <th>2</th>\n",
       "      <td>42.713897</td>\n",
       "      <td>-87.798634</td>\n",
       "      <td>0.045693</td>\n",
       "    </tr>\n",
       "    <tr>\n",
       "      <th>3</th>\n",
       "      <td>38.848232</td>\n",
       "      <td>-121.515236</td>\n",
       "      <td>0.046687</td>\n",
       "    </tr>\n",
       "    <tr>\n",
       "      <th>4</th>\n",
       "      <td>39.907891</td>\n",
       "      <td>-75.149066</td>\n",
       "      <td>0.038572</td>\n",
       "    </tr>\n",
       "  </tbody>\n",
       "</table>\n",
       "</div>"
      ],
      "text/plain": [
       "    Latitude   Longitude  Sample Measurement\n",
       "0  37.858932  -87.575291            0.040264\n",
       "1  40.049604  -75.241209            0.046745\n",
       "2  42.713897  -87.798634            0.045693\n",
       "3  38.848232 -121.515236            0.046687\n",
       "4  39.907891  -75.149066            0.038572"
      ]
     },
     "execution_count": 4,
     "metadata": {},
     "output_type": "execute_result"
    }
   ],
   "source": [
    "df.head()"
   ]
  },
  {
   "cell_type": "code",
   "execution_count": 5,
   "metadata": {},
   "outputs": [
    {
     "data": {
      "text/plain": [
       "(704, 3)"
      ]
     },
     "execution_count": 5,
     "metadata": {},
     "output_type": "execute_result"
    }
   ],
   "source": [
    "df.shape"
   ]
  },
  {
   "cell_type": "code",
   "execution_count": 6,
   "metadata": {},
   "outputs": [],
   "source": [
    "df.dropna(inplace=True)"
   ]
  },
  {
   "cell_type": "code",
   "execution_count": 7,
   "metadata": {},
   "outputs": [],
   "source": [
    "centroids = np.load(\"USA_Centroids.npy\")"
   ]
  },
  {
   "cell_type": "code",
   "execution_count": 8,
   "metadata": {},
   "outputs": [],
   "source": [
    "X = df[['Longitude', 'Latitude']].values\n",
    "y = df[['Sample Measurement']].values * 1000"
   ]
  },
  {
   "cell_type": "markdown",
   "metadata": {},
   "source": [
    "## Kriging Interpolation"
   ]
  },
  {
   "cell_type": "code",
   "execution_count": 9,
   "metadata": {},
   "outputs": [
    {
     "data": {
      "text/plain": [
       "Kriging"
      ]
     },
     "execution_count": 9,
     "metadata": {},
     "output_type": "execute_result"
    }
   ],
   "source": [
    "from ToolkitName.interpolate import Kriging\n",
    "## PyKrige takes Longitude Values in the Range 0 to 360 => Add 360 to our values!\n",
    "X_krig = X.copy()\n",
    "X_test_krig = centroids.copy()\n",
    "X_krig[:, 0] = X_krig[:, 0] + 360\n",
    "krig = Kriging(variogram_model='spherical', coordinate_type='Geographic')\n",
    "krig.fit(X_krig, y)"
   ]
  },
  {
   "cell_type": "code",
   "execution_count": 10,
   "metadata": {},
   "outputs": [],
   "source": [
    "krig_predictions = np.zeros(centroids.shape[0])\n",
    "\n",
    "for ix in np.arange(0, centroids.shape[0], 1000):\n",
    "    \n",
    "    if centroids.shape[0] - ix >= 1000: \n",
    "        X_test_krig[ix: ix + 1000][:, 0] = X_test_krig[ix: ix + 1000][:, 0] + 360\n",
    "        krig_predictions[ix: ix + 1000] = krig.predict(X_test_krig[ix:ix + 1000])\n",
    "    \n",
    "    else: \n",
    "        X_test_krig[ix:][:, 0] = X_test_krig[ix:][:, 0] + 360\n",
    "        krig_predictions[ix: ] = krig.predict(X_test_krig[ix:])"
   ]
  },
  {
   "cell_type": "markdown",
   "metadata": {},
   "source": [
    "## Spatial Averaging"
   ]
  },
  {
   "cell_type": "code",
   "execution_count": 11,
   "metadata": {},
   "outputs": [
    {
     "data": {
      "text/plain": [
       "SpatialAverage"
      ]
     },
     "execution_count": 11,
     "metadata": {},
     "output_type": "execute_result"
    }
   ],
   "source": [
    "from ToolkitName.interpolate import SpatialAverage\n",
    "spatial = SpatialAverage(coordinate_type='Geographic', radius=16.1)\n",
    "spatial.fit(X, y)"
   ]
  },
  {
   "cell_type": "code",
   "execution_count": 12,
   "metadata": {},
   "outputs": [],
   "source": [
    "spatial_predictions = np.zeros(centroids.shape[0])\n",
    "\n",
    "for ix in np.arange(0, centroids.shape[0], 1000):\n",
    "    \n",
    "    if centroids.shape[0] - ix >= 1000: \n",
    "        spatial_predictions[ix: ix + 1000] = spatial.predict(centroids[ix:ix + 1000]).reshape(1000, )\n",
    "    \n",
    "    else: \n",
    "        spatial_predictions[ix: ] = spatial.predict(centroids[ix:])"
   ]
  },
  {
   "cell_type": "markdown",
   "metadata": {},
   "source": [
    "## IDW"
   ]
  },
  {
   "cell_type": "code",
   "execution_count": 13,
   "metadata": {},
   "outputs": [
    {
     "data": {
      "text/plain": [
       "Idw"
      ]
     },
     "execution_count": 13,
     "metadata": {},
     "output_type": "execute_result"
    }
   ],
   "source": [
    "from ToolkitName.interpolate import Idw\n",
    "from ToolkitName.utils.distance import haversine, euclidean\n",
    "idw = Idw(coordinate_type='Geographic')\n",
    "idw.fit(X, y)"
   ]
  },
  {
   "cell_type": "code",
   "execution_count": 14,
   "metadata": {},
   "outputs": [],
   "source": [
    "idw_predictions = np.zeros(centroids.shape[0])\n",
    "for ix, data_point in enumerate(centroids):\n",
    "    distances = haversine(data_point, X)\n",
    "    mask = distances <= 250\n",
    "    X_train = X[mask]\n",
    "    y_train = y[mask]\n",
    "    idw_predictions[ix] = idw.predict(data_point.reshape(1, 2))"
   ]
  },
  {
   "cell_type": "markdown",
   "metadata": {},
   "source": [
    "### $k$-NN, with $k = 1$."
   ]
  },
  {
   "cell_type": "code",
   "execution_count": 15,
   "metadata": {},
   "outputs": [],
   "source": [
    "from ToolkitName.custom import CustomInterpolator\n",
    "from sklearn.neighbors import KNeighborsRegressor\n",
    "knn = CustomInterpolator(KNeighborsRegressor, reg_kwargs={'n_neighbors':1})\n",
    "knn.fit(X, y)\n",
    "knn_predictions = knn.predict(centroids)"
   ]
  },
  {
   "cell_type": "markdown",
   "metadata": {},
   "source": [
    "## Summary Statistics"
   ]
  },
  {
   "cell_type": "markdown",
   "metadata": {},
   "source": [
    "### Station - Dataset"
   ]
  },
  {
   "cell_type": "code",
   "execution_count": 16,
   "metadata": {},
   "outputs": [
    {
     "name": "stdout",
     "output_type": "stream",
     "text": [
      "Station Statistics\n",
      "------------------\n",
      "Mean 46.75552599495552\n",
      "25 Percentile 40.68717611387817\n",
      "50 Percentile / Median 46.26571303054882\n",
      "75 Percentile 51.866755238219426\n"
     ]
    }
   ],
   "source": [
    "## Station Mean\n",
    "print(\"Station Statistics\")\n",
    "print(\"------------------\")\n",
    "print(\"Mean\", y.mean())\n",
    "## Station 25 Percentile\n",
    "print(\"25 Percentile\", np.percentile(y, 25))\n",
    "## Station 50 Percentile / Median\n",
    "print(\"50 Percentile / Median\", np.percentile(y, 50))\n",
    "## Station 75 Percentile\n",
    "print(\"75 Percentile\", np.percentile(y, 75))"
   ]
  },
  {
   "cell_type": "markdown",
   "metadata": {},
   "source": [
    "### IDW"
   ]
  },
  {
   "cell_type": "code",
   "execution_count": 17,
   "metadata": {},
   "outputs": [
    {
     "name": "stdout",
     "output_type": "stream",
     "text": [
      "IDW Statistics\n",
      "------------------\n",
      "Mean 45.74114403870057\n",
      "25 Percentile 42.23944166288551\n",
      "50 Percentile / Median 45.51863263863817\n",
      "75 Percentile 49.009370937965386\n"
     ]
    }
   ],
   "source": [
    "## IDW Mean\n",
    "print(\"IDW Statistics\")\n",
    "print(\"------------------\")\n",
    "print(\"Mean\", idw_predictions.mean())\n",
    "##  25 Percentile\n",
    "print(\"25 Percentile\", np.percentile(idw_predictions, 25))\n",
    "##  50 Percentile / Median\n",
    "print(\"50 Percentile / Median\", np.percentile(idw_predictions, 50))\n",
    "##  75 Percentile\n",
    "print(\"75 Percentile\", np.percentile(idw_predictions, 75))"
   ]
  },
  {
   "cell_type": "markdown",
   "metadata": {},
   "source": [
    "### Spatial Averaging"
   ]
  },
  {
   "cell_type": "code",
   "execution_count": 18,
   "metadata": {},
   "outputs": [],
   "source": [
    "temp = []\n",
    "for i in spatial_predictions:\n",
    "    try:\n",
    "        j = i[0]\n",
    "        temp.append(j)\n",
    "    except:\n",
    "        temp.append(i)\n",
    "spatial_predictions = np.array(temp)\n",
    "t_spatial_predictions = spatial_predictions[~np.isnan(spatial_predictions)]"
   ]
  },
  {
   "cell_type": "code",
   "execution_count": 19,
   "metadata": {},
   "outputs": [
    {
     "name": "stdout",
     "output_type": "stream",
     "text": [
      "Spatial Averaging Statistics\n",
      "------------------\n",
      "Mean 45.18464149438545\n",
      "25 Percentile 39.94368384670303\n",
      "50 Percentile / Median 44.333830617433534\n",
      "75 Percentile 49.245551215277814\n"
     ]
    }
   ],
   "source": [
    "## Spatial Averaging Mean\n",
    "print(\"Spatial Averaging Statistics\")\n",
    "print(\"------------------\")\n",
    "print(\"Mean\", t_spatial_predictions.mean())\n",
    "##  25 Percentile\n",
    "print(\"25 Percentile\", np.percentile(t_spatial_predictions, 25))\n",
    "##  50 Percentile / Median\n",
    "print(\"50 Percentile / Median\", np.percentile(t_spatial_predictions, 50))\n",
    "##  75 Percentile\n",
    "print(\"75 Percentile\", np.percentile(t_spatial_predictions, 75))"
   ]
  },
  {
   "cell_type": "markdown",
   "metadata": {},
   "source": [
    "### $1$-NN"
   ]
  },
  {
   "cell_type": "code",
   "execution_count": 20,
   "metadata": {},
   "outputs": [
    {
     "name": "stdout",
     "output_type": "stream",
     "text": [
      "KNN Statistics\n",
      "------------------\n",
      "Mean 45.22803815395025\n",
      "25 Percentile 39.06444444444447\n",
      "50 Percentile / Median 45.15916463909166\n",
      "75 Percentile 50.27720385674931\n"
     ]
    }
   ],
   "source": [
    "## KNN Mean\n",
    "print(\"KNN Statistics\")\n",
    "print(\"------------------\")\n",
    "print(\"Mean\", knn_predictions.mean())\n",
    "##  25 Percentile\n",
    "print(\"25 Percentile\", np.percentile(knn_predictions, 25))\n",
    "##  50 Percentile / Median\n",
    "print(\"50 Percentile / Median\", np.percentile(knn_predictions, 50))\n",
    "##  75 Percentile\n",
    "print(\"75 Percentile\", np.percentile(knn_predictions, 75))"
   ]
  }
 ],
 "metadata": {
  "kernelspec": {
   "display_name": "Python 3",
   "language": "python",
   "name": "python3"
  },
  "language_info": {
   "codemirror_mode": {
    "name": "ipython",
    "version": 3
   },
   "file_extension": ".py",
   "mimetype": "text/x-python",
   "name": "python",
   "nbconvert_exporter": "python",
   "pygments_lexer": "ipython3",
   "version": "3.7.3"
  }
 },
 "nbformat": 4,
 "nbformat_minor": 2
}
